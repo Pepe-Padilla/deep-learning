{
  "cells": [
    {
      "cell_type": "markdown",
      "metadata": {
        "id": "view-in-github",
        "colab_type": "text"
      },
      "source": [
        "<a href=\"https://colab.research.google.com/github/Pepe-Padilla/deep-learning/blob/main/lateFusion.ipynb\" target=\"_parent\"><img src=\"https://colab.research.google.com/assets/colab-badge.svg\" alt=\"Open In Colab\"/></a>"
      ]
    },
    {
      "cell_type": "markdown",
      "source": [
        "# Late Fusion - DeepLearning\n"
      ],
      "metadata": {
        "id": "anj-GbhgZ_dz"
      },
      "id": "anj-GbhgZ_dz"
    },
    {
      "cell_type": "markdown",
      "source": [
        "### Indice\n",
        "1. Introducción\n",
        "2. Importación y Normalización de datos\n",
        "3. Entrenamiento\n",
        "4. Gráfica de Perdidas\n",
        "5. Test\n",
        "6. Concluciones"
      ],
      "metadata": {
        "id": "ftgA-BvZqssP"
      },
      "id": "ftgA-BvZqssP"
    },
    {
      "cell_type": "markdown",
      "source": [
        "##  1. Introducción"
      ],
      "metadata": {
        "id": "d8MjiSdDsajN"
      },
      "id": "d8MjiSdDsajN"
    },
    {
      "cell_type": "markdown",
      "source": [
        "**Práctica DL** - Ejercicio de Bootcamp Inteligencia Artificial Full Stack Edición III\n",
        "\n",
        "Este proyecto es un entregable para la práctica del Master Bootcamp Inteligencia Artificial Full Stack Edición III realizado por el centro de formación [@Keepcoding](https://github.com/KeepCoding)\n",
        "\n",
        "---\n",
        "\n",
        "El objetivo de este trabajo consiste en resolver un problema del mundo real empleando para ello técnicas vistas durante las sesiones de dicho módulo. En concreto, se trabajará en predecir la condición médica sufrida por una cohorte de pacientes a partir de las diferentes fuentes de información disponibles (imágenes y datos tabulares).\n",
        "\n",
        "Las imagenes deben entrenar y obtener una de los siguientes respuestas:\n",
        "\n",
        "| Enfermedad | Descripción | Código | Indice en salida |\n",
        "|------------|-------------|--------|------------------|\n",
        "| Actinic keratoses y carcinoma de células escamosas | Tipo de cáncer de piel | akiec | 0 |\n",
        "| Nevus melanocítico | Lesión benigna común | nv | 1 |\n",
        "| Melanoma | Tipo de cáncer de piel agresivo | mel | 2 |\n",
        "| Lesiones benignas de queratosis | Incluyen lentigo solar y queratosis seborreica | bkl | 3 |\n",
        "| Dermatofibroma | Lesión benigna del tejido fibroso | df | 4 |\n",
        "| Vasculares | Lesiones vasculares como hemangiomas | vasc | 5 |\n",
        "| Lesión de células basales | Un tipo de cáncer de piel menos agresivo que el melanoma | bcc | 6 |\n",
        "\n",
        "---\n",
        "\n",
        "Para el Late Fusion se usará la combinación aprendida de las predicciones realizadas por el modelo 1D y 2D desarrollado previamente."
      ],
      "metadata": {
        "id": "zcRHZ_Gzm4ax"
      },
      "id": "zcRHZ_Gzm4ax"
    },
    {
      "cell_type": "markdown",
      "source": [
        "## 2. Importación y Normalización de datos"
      ],
      "metadata": {
        "id": "h-EVoxAar8z5"
      },
      "id": "h-EVoxAar8z5"
    },
    {
      "cell_type": "markdown",
      "source": [
        "### 2.1 Imports"
      ],
      "metadata": {
        "id": "Bqi5lUEco_x3"
      },
      "id": "Bqi5lUEco_x3"
    },
    {
      "cell_type": "code",
      "source": [
        "# 1. Primero las importaciones que necesitaremos\n",
        "import numpy as np\n",
        "import pandas as pd\n",
        "import tensorflow as tf\n",
        "import matplotlib.pyplot as plt\n",
        "from sklearn.model_selection import train_test_split\n",
        "from tensorflow.keras.utils import to_categorical\n",
        "from tensorflow.keras.models import Model\n",
        "from tensorflow.keras.layers import Input, Dense, Concatenate\n",
        "from tensorflow.keras.optimizers import Adam"
      ],
      "metadata": {
        "id": "floJBQKoo9Yi"
      },
      "id": "floJBQKoo9Yi",
      "execution_count": 1,
      "outputs": []
    },
    {
      "cell_type": "markdown",
      "source": [
        "### 2.2 Obtención de datos"
      ],
      "metadata": {
        "id": "c9fbl52MpHYT"
      },
      "id": "c9fbl52MpHYT"
    },
    {
      "cell_type": "code",
      "source": [
        "# 2. Obtención de datos\n",
        "#dataframe = pd.read_csv(\"/content/HAM10000_metadata.csv\", usecols=[1], engine='python', skipfooter=3)\n",
        "#df = dataframe.values\n",
        "df_label = pd.read_csv(\"/content/HAM10000_metadata.csv\", sep=\",\")\n",
        "df_image = pd.read_csv(\"/content/hnmist_28_28_RGB.csv\", sep=\",\")\n",
        "tabular_model = tf.keras.models.load_model(\"/content/1d_model.keras\")\n",
        "image_model = tf.keras.models.load_model(\"/content/2d_model.keras\")\n"
      ],
      "metadata": {
        "id": "9enRemE_m01j",
        "colab": {
          "base_uri": "https://localhost:8080/"
        },
        "outputId": "99c757ff-ca6a-436f-affd-234b15753368"
      },
      "id": "9enRemE_m01j",
      "execution_count": 3,
      "outputs": [
        {
          "output_type": "stream",
          "name": "stderr",
          "text": [
            "/usr/local/lib/python3.11/dist-packages/keras/src/saving/saving_lib.py:757: UserWarning: Skipping variable loading for optimizer 'rmsprop', because it has 4 variables whereas the saved optimizer has 2 variables. \n",
            "  saveable.load_own_variables(weights_store.get(inner_path))\n",
            "/usr/local/lib/python3.11/dist-packages/keras/src/saving/saving_lib.py:757: UserWarning: Skipping variable loading for optimizer 'rmsprop', because it has 18 variables whereas the saved optimizer has 34 variables. \n",
            "  saveable.load_own_variables(weights_store.get(inner_path))\n"
          ]
        }
      ]
    },
    {
      "cell_type": "markdown",
      "source": [
        "### 2.3 Inspección de elementos"
      ],
      "metadata": {
        "id": "SzVwVBfrpR7o"
      },
      "id": "SzVwVBfrpR7o"
    },
    {
      "cell_type": "code",
      "source": [
        "# 2. Inspección de los datos\n",
        "print(df_image.head())\n",
        "print(df_image.info())\n",
        "print(df_label.head())\n",
        "print(df_label.info())\n",
        "\n",
        "# Tratamiento df_label\n",
        "# Solo age tiene null, solo se me ocurre rellenar con la mediana\n",
        "df_label[\"age\"] = df_label[\"age\"].fillna(df_label[\"age\"].median())\n",
        "df_label['age'] = df_label['age'] / 100  # Escalamos considerando 100 como el máximo teórico\n",
        "\n",
        "# para evitar problemas después, convertir el tipo de age a un float compatible para Tensor\n",
        "df_label['age'] = df_label['age'].astype('float32')\n",
        "\n",
        "# Convertimos las variables 'sex' y 'localization' a categorías one-hot encoding\n",
        "df_label = pd.get_dummies(df_label, columns=['sex', 'localization','dx'])\n",
        "\n",
        "# 4. Separamos datos\n",
        "dropX = ['lesion_id','image_id','dx_akiec','dx_bcc','dx_bkl','dx_df','dx_mel','dx_nv','dx_vasc','dx_type']\n",
        "dropY = ['lesion_id','image_id','dx_type','age','sex_female','sex_male','sex_unknown','localization_abdomen','localization_acral','localization_back','localization_chest','localization_ear',\n",
        "  'localization_face','localization_foot','localization_genital','localization_hand','localization_lower extremity',\n",
        "  'localization_neck','localization_scalp','localization_trunk','localization_unknown','localization_upper extremity']\n",
        "x_label = df_label.drop(dropX, axis=1).astype(np.float32).values  # Convertimos todo a float32\n",
        "y = df_label.drop(dropY, axis=1).astype(np.float32).values  # Convertimos todo a float32\n",
        "\n",
        "# 3. Preprocesamiento\n",
        "# Separación de características e imágenes\n",
        "X = df_image.values  # Extraemos los valores de píxeles\n",
        "X = X.reshape(-1, 28, 28, 3)  # Reestructuramos a formato de imagen (28x28x3)\n",
        "x_image = X.astype(np.float32) / 255.0  # Normalización de valores RGB\n",
        "\n",
        "\n"
      ],
      "metadata": {
        "colab": {
          "base_uri": "https://localhost:8080/"
        },
        "id": "hALkPFF8prrN",
        "outputId": "ae8b555b-2a41-4dfe-c284-b68850c11154"
      },
      "id": "hALkPFF8prrN",
      "execution_count": 4,
      "outputs": [
        {
          "output_type": "stream",
          "name": "stdout",
          "text": [
            "   pixel0000  pixel0001  pixel0002  pixel0003  pixel0004  pixel0005  \\\n",
            "0        192        153        193        195        155        192   \n",
            "1         25         14         30         68         48         75   \n",
            "2        192        138        153        200        145        163   \n",
            "3         38         19         30         95         59         72   \n",
            "4        158        113        139        194        144        174   \n",
            "\n",
            "   pixel0006  pixel0007  pixel0008  pixel0009  ...  pixel2342  pixel2343  \\\n",
            "0        197        154        185        202  ...        134        173   \n",
            "1        123         93        126        158  ...         82         60   \n",
            "2        201        142        160        206  ...        149        167   \n",
            "3        143        103        119        171  ...         73         44   \n",
            "4        215        162        191        225  ...        201        209   \n",
            "\n",
            "   pixel2344  pixel2345  pixel2346  pixel2347  pixel2348  pixel2349  \\\n",
            "0        124        138        183        147        166        185   \n",
            "1         39         55         25         14         28         25   \n",
            "2        129        143        159        124        142        136   \n",
            "3         26         36         25         12         17         25   \n",
            "4        166        185        172        135        149        109   \n",
            "\n",
            "   pixel2350  pixel2351  \n",
            "0        154        177  \n",
            "1         14         27  \n",
            "2        104        117  \n",
            "3         12         15  \n",
            "4         78         92  \n",
            "\n",
            "[5 rows x 2352 columns]\n",
            "<class 'pandas.core.frame.DataFrame'>\n",
            "RangeIndex: 10015 entries, 0 to 10014\n",
            "Columns: 2352 entries, pixel0000 to pixel2351\n",
            "dtypes: int64(2352)\n",
            "memory usage: 179.7 MB\n",
            "None\n",
            "     lesion_id      image_id   dx dx_type   age   sex localization\n",
            "0  HAM_0000118  ISIC_0027419  bkl   histo  80.0  male        scalp\n",
            "1  HAM_0000118  ISIC_0025030  bkl   histo  80.0  male        scalp\n",
            "2  HAM_0002730  ISIC_0026769  bkl   histo  80.0  male        scalp\n",
            "3  HAM_0002730  ISIC_0025661  bkl   histo  80.0  male        scalp\n",
            "4  HAM_0001466  ISIC_0031633  bkl   histo  75.0  male          ear\n",
            "<class 'pandas.core.frame.DataFrame'>\n",
            "RangeIndex: 10015 entries, 0 to 10014\n",
            "Data columns (total 7 columns):\n",
            " #   Column        Non-Null Count  Dtype  \n",
            "---  ------        --------------  -----  \n",
            " 0   lesion_id     10015 non-null  object \n",
            " 1   image_id      10015 non-null  object \n",
            " 2   dx            10015 non-null  object \n",
            " 3   dx_type       10015 non-null  object \n",
            " 4   age           9958 non-null   float64\n",
            " 5   sex           10015 non-null  object \n",
            " 6   localization  10015 non-null  object \n",
            "dtypes: float64(1), object(6)\n",
            "memory usage: 547.8+ KB\n",
            "None\n"
          ]
        }
      ]
    },
    {
      "cell_type": "markdown",
      "source": [
        "### 2.4 Separación de datos"
      ],
      "metadata": {
        "id": "ZkmboPe6pWlo"
      },
      "id": "ZkmboPe6pWlo"
    },
    {
      "cell_type": "code",
      "source": [
        "# 4. Separación de datos\n",
        "X_label_train, X_label_test, X_image_train, X_image_test, y_train, y_test = train_test_split(\n",
        "    x_label, x_image, y, shuffle=True, test_size=0.2, random_state=42\n",
        ")\n",
        "\n",
        "X_label_train, X_label_val, X_image_train, X_image_val, y_train, y_val = train_test_split(\n",
        "    X_label_train, X_image_train, y_train, shuffle=True, test_size=0.15, random_state=42\n",
        ")"
      ],
      "metadata": {
        "id": "z737HyMBpmo9"
      },
      "id": "z737HyMBpmo9",
      "execution_count": 5,
      "outputs": []
    },
    {
      "cell_type": "markdown",
      "source": [
        "### 2.5 Verificación"
      ],
      "metadata": {
        "id": "PoOBF3YVpcyQ"
      },
      "id": "PoOBF3YVpcyQ"
    },
    {
      "cell_type": "code",
      "source": [
        "# 5. Verificación de normalización\n",
        "y_traindf = pd.DataFrame(y_train)\n",
        "\n",
        "print(y_traindf.describe())\n",
        "print(X_label_train.shape)\n",
        "print(X_image_train.shape)"
      ],
      "metadata": {
        "colab": {
          "base_uri": "https://localhost:8080/"
        },
        "id": "D1TMx0o-p3Wb",
        "outputId": "e59c088f-7ae3-45be-d6c8-bc1503b338a0"
      },
      "id": "D1TMx0o-p3Wb",
      "execution_count": 6,
      "outputs": [
        {
          "output_type": "stream",
          "name": "stdout",
          "text": [
            "                 0            1            2            3            4  \\\n",
            "count  6810.000000  6810.000000  6810.000000  6810.000000  6810.000000   \n",
            "mean      0.033333     0.052129     0.107342     0.011160     0.109692   \n",
            "std       0.179524     0.222301     0.309581     0.105058     0.312524   \n",
            "min       0.000000     0.000000     0.000000     0.000000     0.000000   \n",
            "25%       0.000000     0.000000     0.000000     0.000000     0.000000   \n",
            "50%       0.000000     0.000000     0.000000     0.000000     0.000000   \n",
            "75%       0.000000     0.000000     0.000000     0.000000     0.000000   \n",
            "max       1.000000     1.000000     1.000000     1.000000     1.000000   \n",
            "\n",
            "                 5            6  \n",
            "count  6810.000000  6810.000000  \n",
            "mean      0.670485     0.015859  \n",
            "std       0.470059     0.124940  \n",
            "min       0.000000     0.000000  \n",
            "25%       0.000000     0.000000  \n",
            "50%       1.000000     0.000000  \n",
            "75%       1.000000     0.000000  \n",
            "max       1.000000     1.000000  \n",
            "(6810, 19)\n",
            "(6810, 28, 28, 3)\n"
          ]
        }
      ]
    },
    {
      "cell_type": "markdown",
      "source": [
        "## 3. Entrenamiento"
      ],
      "metadata": {
        "id": "gXK94dEvtl9Y"
      },
      "id": "gXK94dEvtl9Y"
    },
    {
      "cell_type": "code",
      "source": [
        "# Definición de la estructura del modelo de Late Fusion\n",
        "def build_late_fusion_model(tabular_model, vision_model, tabular_input_shape, vision_input_shape):\n",
        "    # Entradas\n",
        "    tabular_input = Input(shape=tabular_input_shape, name=\"tabular_input\")\n",
        "    vision_input = Input(shape=vision_input_shape, name=\"vision_input\")\n",
        "\n",
        "    # Predicciones de cada modelo individual\n",
        "    tabular_pred = tabular_model(tabular_input)\n",
        "    vision_pred = vision_model(vision_input)\n",
        "\n",
        "    # Fusión de las salidas\n",
        "    merged = Concatenate()([tabular_pred, vision_pred])\n",
        "\n",
        "    # Clasificador final\n",
        "    output = Dense(7, activation=\"softmax\", name=\"final_output\")(merged)\n",
        "\n",
        "    # Definición del modelo Late Fusion\n",
        "    late_fusion_model = Model(inputs=[tabular_input, vision_input], outputs=output)\n",
        "    return late_fusion_model\n",
        "\n",
        "# Asumimos que los modelos tabular_model y vision_model ya están entrenados\n",
        "# y que conocemos los tamaños de sus entradas\n",
        "tabular_input_shape = (19,)  # Ajustar según las características tabulares\n",
        "vision_input_shape = (28, 28, 3)  # Ajustar según el modelo de visión\n",
        "\n",
        "# Crear el modelo de Late Fusion\n",
        "model = build_late_fusion_model(tabular_model, image_model, tabular_input_shape, vision_input_shape)\n",
        "model.compile(loss='categorical_crossentropy',\n",
        "              optimizer=Adam(3e-3),  # en el primer intento con 1e-4 la gráfica salió muy planta comienzo a subirlo\n",
        "                                     # 1e-3 mejoró pero sigue plana\n",
        "                                     # 5e-3 me he pasado, el codo esta muy fuerte y se nota un ligero overfitting\n",
        "              metrics=['accuracy'])\n",
        "\n",
        "n_epochs = 50\n",
        "\n",
        "# 8. Entrenamiento del modelo\n",
        "H = model.fit([X_label_train, X_image_train], y_train,\n",
        "          batch_size=100,\n",
        "          epochs=n_epochs,\n",
        "          validation_data=([X_label_val, X_image_val], y_val))\n",
        "\n",
        "# 9. Evaluación del modelo\n",
        "scores = model.evaluate([X_label_test, X_image_test], y_test)\n",
        "print('Loss: %.3f' % scores[0])\n",
        "print('Accuracy: %.3f' % scores[1])\n",
        "\n",
        "\n"
      ],
      "metadata": {
        "colab": {
          "base_uri": "https://localhost:8080/"
        },
        "id": "trVJjWzMOHZ6",
        "outputId": "8de846c1-d20e-4869-e918-41c34d47be3a"
      },
      "id": "trVJjWzMOHZ6",
      "execution_count": 14,
      "outputs": [
        {
          "output_type": "stream",
          "name": "stdout",
          "text": [
            "Epoch 1/50\n",
            "\u001b[1m69/69\u001b[0m \u001b[32m━━━━━━━━━━━━━━━━━━━━\u001b[0m\u001b[37m\u001b[0m \u001b[1m13s\u001b[0m 94ms/step - accuracy: 0.1363 - loss: 2.0463 - val_accuracy: 0.5849 - val_loss: 1.5416\n",
            "Epoch 2/50\n",
            "\u001b[1m69/69\u001b[0m \u001b[32m━━━━━━━━━━━━━━━━━━━━\u001b[0m\u001b[37m\u001b[0m \u001b[1m1s\u001b[0m 11ms/step - accuracy: 0.6206 - loss: 1.4325 - val_accuracy: 0.6481 - val_loss: 1.2078\n",
            "Epoch 3/50\n",
            "\u001b[1m69/69\u001b[0m \u001b[32m━━━━━━━━━━━━━━━━━━━━\u001b[0m\u001b[37m\u001b[0m \u001b[1m1s\u001b[0m 10ms/step - accuracy: 0.6587 - loss: 1.1814 - val_accuracy: 0.6656 - val_loss: 1.1027\n",
            "Epoch 4/50\n",
            "\u001b[1m69/69\u001b[0m \u001b[32m━━━━━━━━━━━━━━━━━━━━\u001b[0m\u001b[37m\u001b[0m \u001b[1m1s\u001b[0m 10ms/step - accuracy: 0.6688 - loss: 1.0942 - val_accuracy: 0.6664 - val_loss: 1.0513\n",
            "Epoch 5/50\n",
            "\u001b[1m69/69\u001b[0m \u001b[32m━━━━━━━━━━━━━━━━━━━━\u001b[0m\u001b[37m\u001b[0m \u001b[1m1s\u001b[0m 10ms/step - accuracy: 0.6669 - loss: 1.0551 - val_accuracy: 0.6664 - val_loss: 1.0067\n",
            "Epoch 6/50\n",
            "\u001b[1m69/69\u001b[0m \u001b[32m━━━━━━━━━━━━━━━━━━━━\u001b[0m\u001b[37m\u001b[0m \u001b[1m1s\u001b[0m 10ms/step - accuracy: 0.6760 - loss: 1.0092 - val_accuracy: 0.6664 - val_loss: 0.9640\n",
            "Epoch 7/50\n",
            "\u001b[1m69/69\u001b[0m \u001b[32m━━━━━━━━━━━━━━━━━━━━\u001b[0m\u001b[37m\u001b[0m \u001b[1m1s\u001b[0m 10ms/step - accuracy: 0.6689 - loss: 0.9688 - val_accuracy: 0.6980 - val_loss: 0.9193\n",
            "Epoch 8/50\n",
            "\u001b[1m69/69\u001b[0m \u001b[32m━━━━━━━━━━━━━━━━━━━━\u001b[0m\u001b[37m\u001b[0m \u001b[1m1s\u001b[0m 10ms/step - accuracy: 0.6901 - loss: 0.9490 - val_accuracy: 0.7080 - val_loss: 0.8979\n",
            "Epoch 9/50\n",
            "\u001b[1m69/69\u001b[0m \u001b[32m━━━━━━━━━━━━━━━━━━━━\u001b[0m\u001b[37m\u001b[0m \u001b[1m1s\u001b[0m 10ms/step - accuracy: 0.6966 - loss: 0.9150 - val_accuracy: 0.7038 - val_loss: 0.8882\n",
            "Epoch 10/50\n",
            "\u001b[1m69/69\u001b[0m \u001b[32m━━━━━━━━━━━━━━━━━━━━\u001b[0m\u001b[37m\u001b[0m \u001b[1m1s\u001b[0m 10ms/step - accuracy: 0.6932 - loss: 0.9101 - val_accuracy: 0.7047 - val_loss: 0.8752\n",
            "Epoch 11/50\n",
            "\u001b[1m69/69\u001b[0m \u001b[32m━━━━━━━━━━━━━━━━━━━━\u001b[0m\u001b[37m\u001b[0m \u001b[1m1s\u001b[0m 10ms/step - accuracy: 0.6940 - loss: 0.8947 - val_accuracy: 0.7097 - val_loss: 0.8646\n",
            "Epoch 12/50\n",
            "\u001b[1m69/69\u001b[0m \u001b[32m━━━━━━━━━━━━━━━━━━━━\u001b[0m\u001b[37m\u001b[0m \u001b[1m1s\u001b[0m 12ms/step - accuracy: 0.7019 - loss: 0.8812 - val_accuracy: 0.7180 - val_loss: 0.8510\n",
            "Epoch 13/50\n",
            "\u001b[1m69/69\u001b[0m \u001b[32m━━━━━━━━━━━━━━━━━━━━\u001b[0m\u001b[37m\u001b[0m \u001b[1m1s\u001b[0m 12ms/step - accuracy: 0.7017 - loss: 0.8785 - val_accuracy: 0.7188 - val_loss: 0.8468\n",
            "Epoch 14/50\n",
            "\u001b[1m69/69\u001b[0m \u001b[32m━━━━━━━━━━━━━━━━━━━━\u001b[0m\u001b[37m\u001b[0m \u001b[1m1s\u001b[0m 10ms/step - accuracy: 0.7057 - loss: 0.8746 - val_accuracy: 0.7163 - val_loss: 0.8453\n",
            "Epoch 15/50\n",
            "\u001b[1m69/69\u001b[0m \u001b[32m━━━━━━━━━━━━━━━━━━━━\u001b[0m\u001b[37m\u001b[0m \u001b[1m1s\u001b[0m 10ms/step - accuracy: 0.7081 - loss: 0.8661 - val_accuracy: 0.7155 - val_loss: 0.8448\n",
            "Epoch 16/50\n",
            "\u001b[1m69/69\u001b[0m \u001b[32m━━━━━━━━━━━━━━━━━━━━\u001b[0m\u001b[37m\u001b[0m \u001b[1m1s\u001b[0m 10ms/step - accuracy: 0.7061 - loss: 0.8675 - val_accuracy: 0.7180 - val_loss: 0.8471\n",
            "Epoch 17/50\n",
            "\u001b[1m69/69\u001b[0m \u001b[32m━━━━━━━━━━━━━━━━━━━━\u001b[0m\u001b[37m\u001b[0m \u001b[1m1s\u001b[0m 10ms/step - accuracy: 0.6907 - loss: 0.9004 - val_accuracy: 0.7171 - val_loss: 0.8380\n",
            "Epoch 18/50\n",
            "\u001b[1m69/69\u001b[0m \u001b[32m━━━━━━━━━━━━━━━━━━━━\u001b[0m\u001b[37m\u001b[0m \u001b[1m1s\u001b[0m 10ms/step - accuracy: 0.6947 - loss: 0.8780 - val_accuracy: 0.7130 - val_loss: 0.8335\n",
            "Epoch 19/50\n",
            "\u001b[1m69/69\u001b[0m \u001b[32m━━━━━━━━━━━━━━━━━━━━\u001b[0m\u001b[37m\u001b[0m \u001b[1m1s\u001b[0m 10ms/step - accuracy: 0.7085 - loss: 0.8529 - val_accuracy: 0.7155 - val_loss: 0.8331\n",
            "Epoch 20/50\n",
            "\u001b[1m69/69\u001b[0m \u001b[32m━━━━━━━━━━━━━━━━━━━━\u001b[0m\u001b[37m\u001b[0m \u001b[1m1s\u001b[0m 10ms/step - accuracy: 0.7040 - loss: 0.8709 - val_accuracy: 0.7155 - val_loss: 0.8261\n",
            "Epoch 21/50\n",
            "\u001b[1m69/69\u001b[0m \u001b[32m━━━━━━━━━━━━━━━━━━━━\u001b[0m\u001b[37m\u001b[0m \u001b[1m1s\u001b[0m 12ms/step - accuracy: 0.7024 - loss: 0.8557 - val_accuracy: 0.7113 - val_loss: 0.8343\n",
            "Epoch 22/50\n",
            "\u001b[1m69/69\u001b[0m \u001b[32m━━━━━━━━━━━━━━━━━━━━\u001b[0m\u001b[37m\u001b[0m \u001b[1m1s\u001b[0m 11ms/step - accuracy: 0.7062 - loss: 0.8570 - val_accuracy: 0.7105 - val_loss: 0.8274\n",
            "Epoch 23/50\n",
            "\u001b[1m69/69\u001b[0m \u001b[32m━━━━━━━━━━━━━━━━━━━━\u001b[0m\u001b[37m\u001b[0m \u001b[1m1s\u001b[0m 12ms/step - accuracy: 0.7062 - loss: 0.8568 - val_accuracy: 0.7030 - val_loss: 0.8384\n",
            "Epoch 24/50\n",
            "\u001b[1m69/69\u001b[0m \u001b[32m━━━━━━━━━━━━━━━━━━━━\u001b[0m\u001b[37m\u001b[0m \u001b[1m1s\u001b[0m 12ms/step - accuracy: 0.7038 - loss: 0.8526 - val_accuracy: 0.7030 - val_loss: 0.8356\n",
            "Epoch 25/50\n",
            "\u001b[1m69/69\u001b[0m \u001b[32m━━━━━━━━━━━━━━━━━━━━\u001b[0m\u001b[37m\u001b[0m \u001b[1m1s\u001b[0m 10ms/step - accuracy: 0.7060 - loss: 0.8558 - val_accuracy: 0.7055 - val_loss: 0.8392\n",
            "Epoch 26/50\n",
            "\u001b[1m69/69\u001b[0m \u001b[32m━━━━━━━━━━━━━━━━━━━━\u001b[0m\u001b[37m\u001b[0m \u001b[1m1s\u001b[0m 10ms/step - accuracy: 0.7225 - loss: 0.8261 - val_accuracy: 0.7055 - val_loss: 0.8449\n",
            "Epoch 27/50\n",
            "\u001b[1m69/69\u001b[0m \u001b[32m━━━━━━━━━━━━━━━━━━━━\u001b[0m\u001b[37m\u001b[0m \u001b[1m1s\u001b[0m 10ms/step - accuracy: 0.7117 - loss: 0.8468 - val_accuracy: 0.7113 - val_loss: 0.8206\n",
            "Epoch 28/50\n",
            "\u001b[1m69/69\u001b[0m \u001b[32m━━━━━━━━━━━━━━━━━━━━\u001b[0m\u001b[37m\u001b[0m \u001b[1m1s\u001b[0m 10ms/step - accuracy: 0.7093 - loss: 0.8402 - val_accuracy: 0.7080 - val_loss: 0.8201\n",
            "Epoch 29/50\n",
            "\u001b[1m69/69\u001b[0m \u001b[32m━━━━━━━━━━━━━━━━━━━━\u001b[0m\u001b[37m\u001b[0m \u001b[1m1s\u001b[0m 10ms/step - accuracy: 0.7101 - loss: 0.8344 - val_accuracy: 0.7121 - val_loss: 0.8192\n",
            "Epoch 30/50\n",
            "\u001b[1m69/69\u001b[0m \u001b[32m━━━━━━━━━━━━━━━━━━━━\u001b[0m\u001b[37m\u001b[0m \u001b[1m1s\u001b[0m 10ms/step - accuracy: 0.7061 - loss: 0.9170 - val_accuracy: 0.7080 - val_loss: 0.8445\n",
            "Epoch 31/50\n",
            "\u001b[1m69/69\u001b[0m \u001b[32m━━━━━━━━━━━━━━━━━━━━\u001b[0m\u001b[37m\u001b[0m \u001b[1m1s\u001b[0m 10ms/step - accuracy: 0.7108 - loss: 0.8440 - val_accuracy: 0.7072 - val_loss: 0.8196\n",
            "Epoch 32/50\n",
            "\u001b[1m69/69\u001b[0m \u001b[32m━━━━━━━━━━━━━━━━━━━━\u001b[0m\u001b[37m\u001b[0m \u001b[1m1s\u001b[0m 10ms/step - accuracy: 0.7126 - loss: 0.8376 - val_accuracy: 0.7088 - val_loss: 0.8158\n",
            "Epoch 33/50\n",
            "\u001b[1m69/69\u001b[0m \u001b[32m━━━━━━━━━━━━━━━━━━━━\u001b[0m\u001b[37m\u001b[0m \u001b[1m1s\u001b[0m 10ms/step - accuracy: 0.7064 - loss: 0.8508 - val_accuracy: 0.7113 - val_loss: 0.8220\n",
            "Epoch 34/50\n",
            "\u001b[1m69/69\u001b[0m \u001b[32m━━━━━━━━━━━━━━━━━━━━\u001b[0m\u001b[37m\u001b[0m \u001b[1m1s\u001b[0m 11ms/step - accuracy: 0.7107 - loss: 0.8465 - val_accuracy: 0.7088 - val_loss: 0.8159\n",
            "Epoch 35/50\n",
            "\u001b[1m69/69\u001b[0m \u001b[32m━━━━━━━━━━━━━━━━━━━━\u001b[0m\u001b[37m\u001b[0m \u001b[1m1s\u001b[0m 12ms/step - accuracy: 0.7089 - loss: 0.8353 - val_accuracy: 0.7080 - val_loss: 0.8178\n",
            "Epoch 36/50\n",
            "\u001b[1m69/69\u001b[0m \u001b[32m━━━━━━━━━━━━━━━━━━━━\u001b[0m\u001b[37m\u001b[0m \u001b[1m1s\u001b[0m 11ms/step - accuracy: 0.7085 - loss: 0.8507 - val_accuracy: 0.7088 - val_loss: 0.8155\n",
            "Epoch 37/50\n",
            "\u001b[1m69/69\u001b[0m \u001b[32m━━━━━━━━━━━━━━━━━━━━\u001b[0m\u001b[37m\u001b[0m \u001b[1m1s\u001b[0m 10ms/step - accuracy: 0.7152 - loss: 0.8488 - val_accuracy: 0.7072 - val_loss: 0.8292\n",
            "Epoch 38/50\n",
            "\u001b[1m69/69\u001b[0m \u001b[32m━━━━━━━━━━━━━━━━━━━━\u001b[0m\u001b[37m\u001b[0m \u001b[1m1s\u001b[0m 10ms/step - accuracy: 0.7105 - loss: 0.8560 - val_accuracy: 0.7047 - val_loss: 0.8331\n",
            "Epoch 39/50\n",
            "\u001b[1m69/69\u001b[0m \u001b[32m━━━━━━━━━━━━━━━━━━━━\u001b[0m\u001b[37m\u001b[0m \u001b[1m1s\u001b[0m 10ms/step - accuracy: 0.7099 - loss: 0.8264 - val_accuracy: 0.7055 - val_loss: 0.8224\n",
            "Epoch 40/50\n",
            "\u001b[1m69/69\u001b[0m \u001b[32m━━━━━━━━━━━━━━━━━━━━\u001b[0m\u001b[37m\u001b[0m \u001b[1m1s\u001b[0m 10ms/step - accuracy: 0.7029 - loss: 0.8455 - val_accuracy: 0.7038 - val_loss: 0.8186\n",
            "Epoch 41/50\n",
            "\u001b[1m69/69\u001b[0m \u001b[32m━━━━━━━━━━━━━━━━━━━━\u001b[0m\u001b[37m\u001b[0m \u001b[1m1s\u001b[0m 10ms/step - accuracy: 0.7069 - loss: 0.8444 - val_accuracy: 0.7072 - val_loss: 0.8242\n",
            "Epoch 42/50\n",
            "\u001b[1m69/69\u001b[0m \u001b[32m━━━━━━━━━━━━━━━━━━━━\u001b[0m\u001b[37m\u001b[0m \u001b[1m1s\u001b[0m 10ms/step - accuracy: 0.7009 - loss: 0.8635 - val_accuracy: 0.7080 - val_loss: 0.8199\n",
            "Epoch 43/50\n",
            "\u001b[1m69/69\u001b[0m \u001b[32m━━━━━━━━━━━━━━━━━━━━\u001b[0m\u001b[37m\u001b[0m \u001b[1m1s\u001b[0m 10ms/step - accuracy: 0.7022 - loss: 0.8515 - val_accuracy: 0.7072 - val_loss: 0.8152\n",
            "Epoch 44/50\n",
            "\u001b[1m69/69\u001b[0m \u001b[32m━━━━━━━━━━━━━━━━━━━━\u001b[0m\u001b[37m\u001b[0m \u001b[1m1s\u001b[0m 10ms/step - accuracy: 0.7064 - loss: 0.8533 - val_accuracy: 0.7063 - val_loss: 0.8176\n",
            "Epoch 45/50\n",
            "\u001b[1m69/69\u001b[0m \u001b[32m━━━━━━━━━━━━━━━━━━━━\u001b[0m\u001b[37m\u001b[0m \u001b[1m1s\u001b[0m 10ms/step - accuracy: 0.7001 - loss: 0.8487 - val_accuracy: 0.7063 - val_loss: 0.8167\n",
            "Epoch 46/50\n",
            "\u001b[1m69/69\u001b[0m \u001b[32m━━━━━━━━━━━━━━━━━━━━\u001b[0m\u001b[37m\u001b[0m \u001b[1m1s\u001b[0m 10ms/step - accuracy: 0.6993 - loss: 0.8567 - val_accuracy: 0.7063 - val_loss: 0.8217\n",
            "Epoch 47/50\n",
            "\u001b[1m69/69\u001b[0m \u001b[32m━━━━━━━━━━━━━━━━━━━━\u001b[0m\u001b[37m\u001b[0m \u001b[1m1s\u001b[0m 10ms/step - accuracy: 0.7041 - loss: 0.8530 - val_accuracy: 0.7005 - val_loss: 0.8413\n",
            "Epoch 48/50\n",
            "\u001b[1m69/69\u001b[0m \u001b[32m━━━━━━━━━━━━━━━━━━━━\u001b[0m\u001b[37m\u001b[0m \u001b[1m1s\u001b[0m 11ms/step - accuracy: 0.7073 - loss: 0.8410 - val_accuracy: 0.6930 - val_loss: 0.8890\n",
            "Epoch 49/50\n",
            "\u001b[1m69/69\u001b[0m \u001b[32m━━━━━━━━━━━━━━━━━━━━\u001b[0m\u001b[37m\u001b[0m \u001b[1m1s\u001b[0m 11ms/step - accuracy: 0.7001 - loss: 0.8710 - val_accuracy: 0.7080 - val_loss: 0.8145\n",
            "Epoch 50/50\n",
            "\u001b[1m69/69\u001b[0m \u001b[32m━━━━━━━━━━━━━━━━━━━━\u001b[0m\u001b[37m\u001b[0m \u001b[1m1s\u001b[0m 10ms/step - accuracy: 0.7065 - loss: 0.8396 - val_accuracy: 0.7088 - val_loss: 0.8239\n",
            "\u001b[1m63/63\u001b[0m \u001b[32m━━━━━━━━━━━━━━━━━━━━\u001b[0m\u001b[37m\u001b[0m \u001b[1m1s\u001b[0m 7ms/step - accuracy: 0.6984 - loss: 0.8696\n",
            "Loss: 0.831\n",
            "Accuracy: 0.710\n"
          ]
        }
      ]
    },
    {
      "cell_type": "markdown",
      "source": [
        "## 4. Gráfica de Perdidas"
      ],
      "metadata": {
        "id": "wbLD9i9pKwLc"
      },
      "id": "wbLD9i9pKwLc"
    },
    {
      "cell_type": "code",
      "source": [
        "# veamos nuestra función de pérdidas con respecto a las épocas ejecutadas\n",
        "plt.style.use(\"ggplot\")\n",
        "plt.figure()\n",
        "plt.plot(np.arange(0, n_epochs), H.history[\"loss\"], label=\"train_loss\")\n",
        "plt.plot(np.arange(0, n_epochs), H.history[\"val_loss\"], label=\"val_loss\")\n",
        "plt.plot(np.arange(0, n_epochs), H.history[\"accuracy\"], label=\"train_acc\")\n",
        "plt.plot(np.arange(0, n_epochs), H.history[\"val_accuracy\"], label=\"val_acc\")\n",
        "plt.title(\"Training Loss and Accuracy\")\n",
        "plt.xlabel(\"Epoch #\")\n",
        "plt.ylabel(\"Loss/Accuracy\")\n",
        "plt.legend()"
      ],
      "metadata": {
        "id": "qDEI_KuxKXZR",
        "outputId": "d5f13161-bdd1-4e69-a636-d8a7fcc5d0b4",
        "colab": {
          "base_uri": "https://localhost:8080/",
          "height": 494
        }
      },
      "id": "qDEI_KuxKXZR",
      "execution_count": 15,
      "outputs": [
        {
          "output_type": "execute_result",
          "data": {
            "text/plain": [
              "<matplotlib.legend.Legend at 0x7c15ee09f290>"
            ]
          },
          "metadata": {},
          "execution_count": 15
        },
        {
          "output_type": "display_data",
          "data": {
            "text/plain": [
              "<Figure size 640x480 with 1 Axes>"
            ],
            "image/png": "[encoded data removed]"
          },
          "metadata": {}
        }
      ]
    },
    {
      "cell_type": "code",
      "source": [
        "# Guardamos el resultado\n",
        "model.save(\"/content/latefusion_model.keras\")"
      ],
      "metadata": {
        "id": "GNHWEKcPuoj-"
      },
      "id": "GNHWEKcPuoj-",
      "execution_count": 16,
      "outputs": []
    },
    {
      "cell_type": "markdown",
      "source": [
        "## 5. Concluciones"
      ],
      "metadata": {
        "id": "m3DusFPhK8tX"
      },
      "id": "m3DusFPhK8tX"
    },
    {
      "cell_type": "code",
      "source": [
        "model.summary()"
      ],
      "metadata": {
        "colab": {
          "base_uri": "https://localhost:8080/",
          "height": 391
        },
        "id": "iq5WUVF5w02O",
        "outputId": "89220678-0d3f-4f74-96a8-ca1e1376d62d"
      },
      "id": "iq5WUVF5w02O",
      "execution_count": 17,
      "outputs": [
        {
          "output_type": "display_data",
          "data": {
            "text/plain": [
              "\u001b[1mModel: \"functional_25\"\u001b[0m\n"
            ],
            "text/html": [
              "<pre style=\"white-space:pre;overflow-x:auto;line-height:normal;font-family:Menlo,'DejaVu Sans Mono',consolas,'Courier New',monospace\"><span style=\"font-weight: bold\">Model: \"functional_25\"</span>\n",
              "</pre>\n"
            ]
          },
          "metadata": {}
        },
        {
          "output_type": "display_data",
          "data": {
            "text/plain": [
              "┏━━━━━━━━━━━━━━━━━━━━━━━━━━━┳━━━━━━━━━━━━━━━━━━━━━━━━┳━━━━━━━━━━━━━━━━┳━━━━━━━━━━━━━━━━━━━━━━━━┓\n",
              "┃\u001b[1m \u001b[0m\u001b[1mLayer (type)             \u001b[0m\u001b[1m \u001b[0m┃\u001b[1m \u001b[0m\u001b[1mOutput Shape          \u001b[0m\u001b[1m \u001b[0m┃\u001b[1m \u001b[0m\u001b[1m       Param #\u001b[0m\u001b[1m \u001b[0m┃\u001b[1m \u001b[0m\u001b[1mConnected to          \u001b[0m\u001b[1m \u001b[0m┃\n",
              "┡━━━━━━━━━━━━━━━━━━━━━━━━━━━╇━━━━━━━━━━━━━━━━━━━━━━━━╇━━━━━━━━━━━━━━━━╇━━━━━━━━━━━━━━━━━━━━━━━━┩\n",
              "│ tabular_input             │ (\u001b[38;5;45mNone\u001b[0m, \u001b[38;5;34m19\u001b[0m)             │              \u001b[38;5;34m0\u001b[0m │ -                      │\n",
              "│ (\u001b[38;5;33mInputLayer\u001b[0m)              │                        │                │                        │\n",
              "├───────────────────────────┼────────────────────────┼────────────────┼────────────────────────┤\n",
              "│ vision_input (\u001b[38;5;33mInputLayer\u001b[0m) │ (\u001b[38;5;45mNone\u001b[0m, \u001b[38;5;34m28\u001b[0m, \u001b[38;5;34m28\u001b[0m, \u001b[38;5;34m3\u001b[0m)      │              \u001b[38;5;34m0\u001b[0m │ -                      │\n",
              "├───────────────────────────┼────────────────────────┼────────────────┼────────────────────────┤\n",
              "│ sequential (\u001b[38;5;33mSequential\u001b[0m)   │ (\u001b[38;5;45mNone\u001b[0m, \u001b[38;5;34m7\u001b[0m)              │            \u001b[38;5;34m140\u001b[0m │ tabular_input[\u001b[38;5;34m0\u001b[0m][\u001b[38;5;34m0\u001b[0m]    │\n",
              "├───────────────────────────┼────────────────────────┼────────────────┼────────────────────────┤\n",
              "│ sequential_5 (\u001b[38;5;33mSequential\u001b[0m) │ (\u001b[38;5;45mNone\u001b[0m, \u001b[38;5;34m7\u001b[0m)              │        \u001b[38;5;34m439,559\u001b[0m │ vision_input[\u001b[38;5;34m0\u001b[0m][\u001b[38;5;34m0\u001b[0m]     │\n",
              "├───────────────────────────┼────────────────────────┼────────────────┼────────────────────────┤\n",
              "│ concatenate_4             │ (\u001b[38;5;45mNone\u001b[0m, \u001b[38;5;34m14\u001b[0m)             │              \u001b[38;5;34m0\u001b[0m │ sequential[\u001b[38;5;34m4\u001b[0m][\u001b[38;5;34m0\u001b[0m],      │\n",
              "│ (\u001b[38;5;33mConcatenate\u001b[0m)             │                        │                │ sequential_5[\u001b[38;5;34m4\u001b[0m][\u001b[38;5;34m0\u001b[0m]     │\n",
              "├───────────────────────────┼────────────────────────┼────────────────┼────────────────────────┤\n",
              "│ final_output (\u001b[38;5;33mDense\u001b[0m)      │ (\u001b[38;5;45mNone\u001b[0m, \u001b[38;5;34m7\u001b[0m)              │            \u001b[38;5;34m105\u001b[0m │ concatenate_4[\u001b[38;5;34m0\u001b[0m][\u001b[38;5;34m0\u001b[0m]    │\n",
              "└───────────────────────────┴────────────────────────┴────────────────┴────────────────────────┘\n"
            ],
            "text/html": [
              "<pre style=\"white-space:pre;overflow-x:auto;line-height:normal;font-family:Menlo,'DejaVu Sans Mono',consolas,'Courier New',monospace\">┏━━━━━━━━━━━━━━━━━━━━━━━━━━━┳━━━━━━━━━━━━━━━━━━━━━━━━┳━━━━━━━━━━━━━━━━┳━━━━━━━━━━━━━━━━━━━━━━━━┓\n",
              "┃<span style=\"font-weight: bold\"> Layer (type)              </span>┃<span style=\"font-weight: bold\"> Output Shape           </span>┃<span style=\"font-weight: bold\">        Param # </span>┃<span style=\"font-weight: bold\"> Connected to           </span>┃\n",
              "┡━━━━━━━━━━━━━━━━━━━━━━━━━━━╇━━━━━━━━━━━━━━━━━━━━━━━━╇━━━━━━━━━━━━━━━━╇━━━━━━━━━━━━━━━━━━━━━━━━┩\n",
              "│ tabular_input             │ (<span style=\"color: #00d7ff; text-decoration-color: #00d7ff\">None</span>, <span style=\"color: #00af00; text-decoration-color: #00af00\">19</span>)             │              <span style=\"color: #00af00; text-decoration-color: #00af00\">0</span> │ -                      │\n",
              "│ (<span style=\"color: #0087ff; text-decoration-color: #0087ff\">InputLayer</span>)              │                        │                │                        │\n",
              "├───────────────────────────┼────────────────────────┼────────────────┼────────────────────────┤\n",
              "│ vision_input (<span style=\"color: #0087ff; text-decoration-color: #0087ff\">InputLayer</span>) │ (<span style=\"color: #00d7ff; text-decoration-color: #00d7ff\">None</span>, <span style=\"color: #00af00; text-decoration-color: #00af00\">28</span>, <span style=\"color: #00af00; text-decoration-color: #00af00\">28</span>, <span style=\"color: #00af00; text-decoration-color: #00af00\">3</span>)      │              <span style=\"color: #00af00; text-decoration-color: #00af00\">0</span> │ -                      │\n",
              "├───────────────────────────┼────────────────────────┼────────────────┼────────────────────────┤\n",
              "│ sequential (<span style=\"color: #0087ff; text-decoration-color: #0087ff\">Sequential</span>)   │ (<span style=\"color: #00d7ff; text-decoration-color: #00d7ff\">None</span>, <span style=\"color: #00af00; text-decoration-color: #00af00\">7</span>)              │            <span style=\"color: #00af00; text-decoration-color: #00af00\">140</span> │ tabular_input[<span style=\"color: #00af00; text-decoration-color: #00af00\">0</span>][<span style=\"color: #00af00; text-decoration-color: #00af00\">0</span>]    │\n",
              "├───────────────────────────┼────────────────────────┼────────────────┼────────────────────────┤\n",
              "│ sequential_5 (<span style=\"color: #0087ff; text-decoration-color: #0087ff\">Sequential</span>) │ (<span style=\"color: #00d7ff; text-decoration-color: #00d7ff\">None</span>, <span style=\"color: #00af00; text-decoration-color: #00af00\">7</span>)              │        <span style=\"color: #00af00; text-decoration-color: #00af00\">439,559</span> │ vision_input[<span style=\"color: #00af00; text-decoration-color: #00af00\">0</span>][<span style=\"color: #00af00; text-decoration-color: #00af00\">0</span>]     │\n",
              "├───────────────────────────┼────────────────────────┼────────────────┼────────────────────────┤\n",
              "│ concatenate_4             │ (<span style=\"color: #00d7ff; text-decoration-color: #00d7ff\">None</span>, <span style=\"color: #00af00; text-decoration-color: #00af00\">14</span>)             │              <span style=\"color: #00af00; text-decoration-color: #00af00\">0</span> │ sequential[<span style=\"color: #00af00; text-decoration-color: #00af00\">4</span>][<span style=\"color: #00af00; text-decoration-color: #00af00\">0</span>],      │\n",
              "│ (<span style=\"color: #0087ff; text-decoration-color: #0087ff\">Concatenate</span>)             │                        │                │ sequential_5[<span style=\"color: #00af00; text-decoration-color: #00af00\">4</span>][<span style=\"color: #00af00; text-decoration-color: #00af00\">0</span>]     │\n",
              "├───────────────────────────┼────────────────────────┼────────────────┼────────────────────────┤\n",
              "│ final_output (<span style=\"color: #0087ff; text-decoration-color: #0087ff\">Dense</span>)      │ (<span style=\"color: #00d7ff; text-decoration-color: #00d7ff\">None</span>, <span style=\"color: #00af00; text-decoration-color: #00af00\">7</span>)              │            <span style=\"color: #00af00; text-decoration-color: #00af00\">105</span> │ concatenate_4[<span style=\"color: #00af00; text-decoration-color: #00af00\">0</span>][<span style=\"color: #00af00; text-decoration-color: #00af00\">0</span>]    │\n",
              "└───────────────────────────┴────────────────────────┴────────────────┴────────────────────────┘\n",
              "</pre>\n"
            ]
          },
          "metadata": {}
        },
        {
          "output_type": "display_data",
          "data": {
            "text/plain": [
              "\u001b[1m Total params: \u001b[0m\u001b[38;5;34m1,317,878\u001b[0m (5.03 MB)\n"
            ],
            "text/html": [
              "<pre style=\"white-space:pre;overflow-x:auto;line-height:normal;font-family:Menlo,'DejaVu Sans Mono',consolas,'Courier New',monospace\"><span style=\"font-weight: bold\"> Total params: </span><span style=\"color: #00af00; text-decoration-color: #00af00\">1,317,878</span> (5.03 MB)\n",
              "</pre>\n"
            ]
          },
          "metadata": {}
        },
        {
          "output_type": "display_data",
          "data": {
            "text/plain": [
              "\u001b[1m Trainable params: \u001b[0m\u001b[38;5;34m439,036\u001b[0m (1.67 MB)\n"
            ],
            "text/html": [
              "<pre style=\"white-space:pre;overflow-x:auto;line-height:normal;font-family:Menlo,'DejaVu Sans Mono',consolas,'Courier New',monospace\"><span style=\"font-weight: bold\"> Trainable params: </span><span style=\"color: #00af00; text-decoration-color: #00af00\">439,036</span> (1.67 MB)\n",
              "</pre>\n"
            ]
          },
          "metadata": {}
        },
        {
          "output_type": "display_data",
          "data": {
            "text/plain": [
              "\u001b[1m Non-trainable params: \u001b[0m\u001b[38;5;34m768\u001b[0m (3.00 KB)\n"
            ],
            "text/html": [
              "<pre style=\"white-space:pre;overflow-x:auto;line-height:normal;font-family:Menlo,'DejaVu Sans Mono',consolas,'Courier New',monospace\"><span style=\"font-weight: bold\"> Non-trainable params: </span><span style=\"color: #00af00; text-decoration-color: #00af00\">768</span> (3.00 KB)\n",
              "</pre>\n"
            ]
          },
          "metadata": {}
        },
        {
          "output_type": "display_data",
          "data": {
            "text/plain": [
              "\u001b[1m Optimizer params: \u001b[0m\u001b[38;5;34m878,074\u001b[0m (3.35 MB)\n"
            ],
            "text/html": [
              "<pre style=\"white-space:pre;overflow-x:auto;line-height:normal;font-family:Menlo,'DejaVu Sans Mono',consolas,'Courier New',monospace\"><span style=\"font-weight: bold\"> Optimizer params: </span><span style=\"color: #00af00; text-decoration-color: #00af00\">878,074</span> (3.35 MB)\n",
              "</pre>\n"
            ]
          },
          "metadata": {}
        }
      ]
    },
    {
      "cell_type": "markdown",
      "source": [
        "conclusiones"
      ],
      "metadata": {
        "id": "s-kPUhIOLCie"
      },
      "id": "s-kPUhIOLCie"
    }
  ],
  "metadata": {
    "kernelspec": {
      "display_name": "Python 3",
      "name": "python3"
    },
    "language_info": {
      "name": "python"
    },
    "colab": {
      "provenance": [],
      "gpuType": "T4",
      "include_colab_link": true
    },
    "accelerator": "GPU"
  },
  "nbformat": 4,
  "nbformat_minor": 5
}