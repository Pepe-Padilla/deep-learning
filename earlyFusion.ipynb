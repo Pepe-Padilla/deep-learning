{
  "cells": [
    {
      "cell_type": "markdown",
      "metadata": {
        "id": "view-in-github",
        "colab_type": "text"
      },
      "source": [
        "<a href=\"https://colab.research.google.com/github/Pepe-Padilla/deep-learning/blob/main/earlyFusion.ipynb\" target=\"_parent\"><img src=\"https://colab.research.google.com/assets/colab-badge.svg\" alt=\"Open In Colab\"/></a>"
      ]
    },
    {
      "cell_type": "markdown",
      "source": [
        "# Early Fusion - DeepLearning\n"
      ],
      "metadata": {
        "id": "anj-GbhgZ_dz"
      },
      "id": "anj-GbhgZ_dz"
    },
    {
      "cell_type": "markdown",
      "source": [
        "### Indice\n",
        "1. Introducción\n",
        "2. Importación y Normalización de datos\n",
        "3. Entrenamiento\n",
        "4. Gráfica de Perdidas\n",
        "5. Test\n",
        "6. Concluciones"
      ],
      "metadata": {
        "id": "ftgA-BvZqssP"
      },
      "id": "ftgA-BvZqssP"
    },
    {
      "cell_type": "markdown",
      "source": [
        "##  1. Introducción"
      ],
      "metadata": {
        "id": "d8MjiSdDsajN"
      },
      "id": "d8MjiSdDsajN"
    },
    {
      "cell_type": "markdown",
      "source": [
        "**Práctica DL** - Ejercicio de Bootcamp Inteligencia Artificial Full Stack Edición III\n",
        "\n",
        "Este proyecto es un entregable para la práctica del Master Bootcamp Inteligencia Artificial Full Stack Edición III realizado por el centro de formación [@Keepcoding](https://github.com/KeepCoding)\n",
        "\n",
        "---\n",
        "\n",
        "El objetivo de este trabajo consiste en resolver un problema del mundo real empleando para ello técnicas vistas durante las sesiones de dicho módulo. En concreto, se trabajará en predecir la condición médica sufrida por una cohorte de pacientes a partir de las diferentes fuentes de información disponibles (imágenes y datos tabulares).\n",
        "\n",
        "Las imagenes deben entrenar y obtener una de los siguientes respuestas:\n",
        "\n",
        "| Enfermedad | Descripción | Código | Indice en salida |\n",
        "|------------|-------------|--------|------------------|\n",
        "| Actinic keratoses y carcinoma de células escamosas | Tipo de cáncer de piel | akiec | 0 |\n",
        "| Nevus melanocítico | Lesión benigna común | nv | 1 |\n",
        "| Melanoma | Tipo de cáncer de piel agresivo | mel | 2 |\n",
        "| Lesiones benignas de queratosis | Incluyen lentigo solar y queratosis seborreica | bkl | 3 |\n",
        "| Dermatofibroma | Lesión benigna del tejido fibroso | df | 4 |\n",
        "| Vasculares | Lesiones vasculares como hemangiomas | vasc | 5 |\n",
        "| Lesión de células basales | Un tipo de cáncer de piel menos agresivo que el melanoma | bcc | 6 |\n",
        "\n",
        "---\n",
        "\n",
        "Para el Early Fusion se usará la combinación aprendida de las predicciones realizadas por el modelo 1D y 2D desarrollado previamente."
      ],
      "metadata": {
        "id": "zcRHZ_Gzm4ax"
      },
      "id": "zcRHZ_Gzm4ax"
    },
    {
      "cell_type": "markdown",
      "source": [
        "## 2. Importación y Normalización de datos"
      ],
      "metadata": {
        "id": "h-EVoxAar8z5"
      },
      "id": "h-EVoxAar8z5"
    },
    {
      "cell_type": "markdown",
      "source": [
        "### 2.1 Imports"
      ],
      "metadata": {
        "id": "Bqi5lUEco_x3"
      },
      "id": "Bqi5lUEco_x3"
    },
    {
      "cell_type": "code",
      "source": [
        "# 1. Primero las importaciones que necesitaremos\n",
        "import numpy as np\n",
        "import pandas as pd\n",
        "import tensorflow as tf\n",
        "import matplotlib.pyplot as plt\n",
        "from sklearn.model_selection import train_test_split\n",
        "from tensorflow.keras.utils import to_categorical\n",
        "from tensorflow.keras.models import Model\n",
        "from tensorflow.keras.layers import Input, Dense, Concatenate, Flatten\n",
        "from tensorflow.keras.optimizers import Adam\n",
        "from sklearn.linear_model import RidgeClassifier"
      ],
      "metadata": {
        "id": "floJBQKoo9Yi"
      },
      "id": "floJBQKoo9Yi",
      "execution_count": null,
      "outputs": []
    },
    {
      "cell_type": "markdown",
      "source": [
        "### 2.2 Obtención de datos"
      ],
      "metadata": {
        "id": "c9fbl52MpHYT"
      },
      "id": "c9fbl52MpHYT"
    },
    {
      "cell_type": "code",
      "source": [
        "# Ignora esta celda tenía una incidencia que ya he resuleto, ver concluciones en D1\n",
        "import tensorflow as tf\n",
        "import numpy as np\n",
        "\n",
        "# Load the model\n",
        "tabular_model = tf.keras.models.load_model(\"/content/1d_model.keras\")\n",
        "\n",
        "# Now you can access the input attribute\n",
        "print(tabular_model.input)\n"
      ],
      "metadata": {
        "id": "1p6ayL7kSQf_",
        "outputId": "0409d993-a796-4bf9-f14f-6f4181f91fab",
        "colab": {
          "base_uri": "https://localhost:8080/"
        }
      },
      "id": "1p6ayL7kSQf_",
      "execution_count": null,
      "outputs": [
        {
          "output_type": "stream",
          "name": "stdout",
          "text": [
            "<KerasTensor shape=(None, 19), dtype=float32, sparse=False, name=input_layer_8>\n"
          ]
        }
      ]
    },
    {
      "cell_type": "code",
      "source": [
        "# 2. Obtención de datos\n",
        "#dataframe = pd.read_csv(\"/content/HAM10000_metadata.csv\", usecols=[1], engine='python', skipfooter=3)\n",
        "#df = dataframe.values\n",
        "df_label = pd.read_csv(\"/content/HAM10000_metadata.csv\", sep=\",\")\n",
        "df_image = pd.read_csv(\"/content/hnmist_28_28_RGB.csv\", sep=\",\")\n",
        "tabular_model = tf.keras.models.load_model(\"/content/1d_model.keras\")\n",
        "image_model = tf.keras.models.load_model(\"/content/2d_model.keras\")\n"
      ],
      "metadata": {
        "id": "9enRemE_m01j"
      },
      "id": "9enRemE_m01j",
      "execution_count": null,
      "outputs": []
    },
    {
      "cell_type": "markdown",
      "source": [
        "### 2.3 Inspección de elementos"
      ],
      "metadata": {
        "id": "SzVwVBfrpR7o"
      },
      "id": "SzVwVBfrpR7o"
    },
    {
      "cell_type": "code",
      "source": [
        "# 2. Inspección de los datos\n",
        "print(df_image.head())\n",
        "print(df_image.info())\n",
        "print(df_label.head())\n",
        "print(df_label.info())\n",
        "\n",
        "# Tratamiento df_label\n",
        "# Solo age tiene null, solo se me ocurre rellenar con la mediana\n",
        "df_label[\"age\"] = df_label[\"age\"].fillna(df_label[\"age\"].median())\n",
        "df_label['age'] = df_label['age'] / 100  # Escalamos considerando 100 como el máximo teórico\n",
        "\n",
        "# para evitar problemas después, convertir el tipo de age a un float compatible para Tensor\n",
        "df_label['age'] = df_label['age'].astype('float32')\n",
        "\n",
        "# Convertimos las variables 'sex' y 'localization' a categorías one-hot encoding\n",
        "df_label = pd.get_dummies(df_label, columns=['sex', 'localization','dx'])\n",
        "\n",
        "# 4. Separamos datos\n",
        "dropX = ['lesion_id','image_id','dx_akiec','dx_bcc','dx_bkl','dx_df','dx_mel','dx_nv','dx_vasc','dx_type']\n",
        "dropY = ['lesion_id','image_id','dx_type','age','sex_female','sex_male','sex_unknown','localization_abdomen','localization_acral','localization_back','localization_chest','localization_ear',\n",
        "  'localization_face','localization_foot','localization_genital','localization_hand','localization_lower extremity',\n",
        "  'localization_neck','localization_scalp','localization_trunk','localization_unknown','localization_upper extremity']\n",
        "x_label = df_label.drop(dropX, axis=1).astype(np.float32).values  # Convertimos todo a float32\n",
        "y = df_label.drop(dropY, axis=1).astype(np.float32).values  # Convertimos todo a float32\n",
        "\n",
        "# 3. Preprocesamiento\n",
        "# Separación de características e imágenes\n",
        "X = df_image.values  # Extraemos los valores de píxeles\n",
        "X = X.reshape(-1, 28, 28, 3)  # Reestructuramos a formato de imagen (28x28x3)\n",
        "x_image = X.astype(np.float32) / 255.0  # Normalización de valores RGB\n",
        "\n",
        "\n"
      ],
      "metadata": {
        "colab": {
          "base_uri": "https://localhost:8080/"
        },
        "id": "hALkPFF8prrN",
        "outputId": "d7ab82bf-993c-4227-c34e-8dc9f8c97610"
      },
      "id": "hALkPFF8prrN",
      "execution_count": null,
      "outputs": [
        {
          "output_type": "stream",
          "name": "stdout",
          "text": [
            "   pixel0000  pixel0001  pixel0002  pixel0003  pixel0004  pixel0005  \\\n",
            "0        192        153        193        195        155        192   \n",
            "1         25         14         30         68         48         75   \n",
            "2        192        138        153        200        145        163   \n",
            "3         38         19         30         95         59         72   \n",
            "4        158        113        139        194        144        174   \n",
            "\n",
            "   pixel0006  pixel0007  pixel0008  pixel0009  ...  pixel2342  pixel2343  \\\n",
            "0        197        154        185        202  ...        134        173   \n",
            "1        123         93        126        158  ...         82         60   \n",
            "2        201        142        160        206  ...        149        167   \n",
            "3        143        103        119        171  ...         73         44   \n",
            "4        215        162        191        225  ...        201        209   \n",
            "\n",
            "   pixel2344  pixel2345  pixel2346  pixel2347  pixel2348  pixel2349  \\\n",
            "0        124        138        183        147        166        185   \n",
            "1         39         55         25         14         28         25   \n",
            "2        129        143        159        124        142        136   \n",
            "3         26         36         25         12         17         25   \n",
            "4        166        185        172        135        149        109   \n",
            "\n",
            "   pixel2350  pixel2351  \n",
            "0        154        177  \n",
            "1         14         27  \n",
            "2        104        117  \n",
            "3         12         15  \n",
            "4         78         92  \n",
            "\n",
            "[5 rows x 2352 columns]\n",
            "<class 'pandas.core.frame.DataFrame'>\n",
            "RangeIndex: 10015 entries, 0 to 10014\n",
            "Columns: 2352 entries, pixel0000 to pixel2351\n",
            "dtypes: int64(2352)\n",
            "memory usage: 179.7 MB\n",
            "None\n",
            "     lesion_id      image_id   dx dx_type   age   sex localization\n",
            "0  HAM_0000118  ISIC_0027419  bkl   histo  80.0  male        scalp\n",
            "1  HAM_0000118  ISIC_0025030  bkl   histo  80.0  male        scalp\n",
            "2  HAM_0002730  ISIC_0026769  bkl   histo  80.0  male        scalp\n",
            "3  HAM_0002730  ISIC_0025661  bkl   histo  80.0  male        scalp\n",
            "4  HAM_0001466  ISIC_0031633  bkl   histo  75.0  male          ear\n",
            "<class 'pandas.core.frame.DataFrame'>\n",
            "RangeIndex: 10015 entries, 0 to 10014\n",
            "Data columns (total 7 columns):\n",
            " #   Column        Non-Null Count  Dtype  \n",
            "---  ------        --------------  -----  \n",
            " 0   lesion_id     10015 non-null  object \n",
            " 1   image_id      10015 non-null  object \n",
            " 2   dx            10015 non-null  object \n",
            " 3   dx_type       10015 non-null  object \n",
            " 4   age           9958 non-null   float64\n",
            " 5   sex           10015 non-null  object \n",
            " 6   localization  10015 non-null  object \n",
            "dtypes: float64(1), object(6)\n",
            "memory usage: 547.8+ KB\n",
            "None\n"
          ]
        }
      ]
    },
    {
      "cell_type": "markdown",
      "source": [
        "### 2.4 Separación de datos"
      ],
      "metadata": {
        "id": "ZkmboPe6pWlo"
      },
      "id": "ZkmboPe6pWlo"
    },
    {
      "cell_type": "code",
      "source": [
        "# 4. Separación de datos\n",
        "X_label_train, X_label_test, X_image_train, X_image_test, y_train, y_test = train_test_split(\n",
        "    x_label, x_image, y, shuffle=True, test_size=0.2, random_state=42\n",
        ")\n",
        "\n",
        "X_label_train, X_label_val, X_image_train, X_image_val, y_train, y_val = train_test_split(\n",
        "    X_label_train, X_image_train, y_train, shuffle=True, test_size=0.15, random_state=42\n",
        ")"
      ],
      "metadata": {
        "id": "z737HyMBpmo9"
      },
      "id": "z737HyMBpmo9",
      "execution_count": null,
      "outputs": []
    },
    {
      "cell_type": "markdown",
      "source": [
        "### 2.5 Verificación"
      ],
      "metadata": {
        "id": "PoOBF3YVpcyQ"
      },
      "id": "PoOBF3YVpcyQ"
    },
    {
      "cell_type": "code",
      "source": [
        "# 5. Verificación de normalización\n",
        "y_traindf = pd.DataFrame(y_train)\n",
        "\n",
        "print(y_traindf.describe())\n",
        "print(X_label_train.shape)\n",
        "print(X_image_train.shape)"
      ],
      "metadata": {
        "colab": {
          "base_uri": "https://localhost:8080/"
        },
        "id": "D1TMx0o-p3Wb",
        "outputId": "7d527f57-84d1-4405-b246-4e611a9496b6"
      },
      "id": "D1TMx0o-p3Wb",
      "execution_count": null,
      "outputs": [
        {
          "output_type": "stream",
          "name": "stdout",
          "text": [
            "                 0            1            2            3            4  \\\n",
            "count  6810.000000  6810.000000  6810.000000  6810.000000  6810.000000   \n",
            "mean      0.033333     0.052129     0.107342     0.011160     0.109692   \n",
            "std       0.179524     0.222301     0.309581     0.105058     0.312524   \n",
            "min       0.000000     0.000000     0.000000     0.000000     0.000000   \n",
            "25%       0.000000     0.000000     0.000000     0.000000     0.000000   \n",
            "50%       0.000000     0.000000     0.000000     0.000000     0.000000   \n",
            "75%       0.000000     0.000000     0.000000     0.000000     0.000000   \n",
            "max       1.000000     1.000000     1.000000     1.000000     1.000000   \n",
            "\n",
            "                 5            6  \n",
            "count  6810.000000  6810.000000  \n",
            "mean      0.670485     0.015859  \n",
            "std       0.470059     0.124940  \n",
            "min       0.000000     0.000000  \n",
            "25%       0.000000     0.000000  \n",
            "50%       1.000000     0.000000  \n",
            "75%       1.000000     0.000000  \n",
            "max       1.000000     1.000000  \n",
            "(6810, 19)\n",
            "(6810, 28, 28, 3)\n"
          ]
        }
      ]
    },
    {
      "cell_type": "markdown",
      "source": [
        "## 3. Entrenamiento"
      ],
      "metadata": {
        "id": "gXK94dEvtl9Y"
      },
      "id": "gXK94dEvtl9Y"
    },
    {
      "cell_type": "code",
      "source": [
        "for layer in image_model.layers:\n",
        "    print(layer.name)\n"
      ],
      "metadata": {
        "id": "3ts-7lZsfpj1",
        "outputId": "eff2cc19-1130-4e4b-f1ba-4817e5c6e44b",
        "colab": {
          "base_uri": "https://localhost:8080/"
        }
      },
      "id": "3ts-7lZsfpj1",
      "execution_count": null,
      "outputs": [
        {
          "output_type": "stream",
          "name": "stdout",
          "text": [
            "input_layer_3\n",
            "conv2d_9\n",
            "batch_normalization_9\n",
            "activation_9\n",
            "max_pooling2d_9\n",
            "dropout_12\n",
            "conv2d_10\n",
            "batch_normalization_10\n",
            "activation_10\n",
            "max_pooling2d_10\n",
            "dropout_13\n",
            "conv2d_11\n",
            "batch_normalization_11\n",
            "activation_11\n",
            "max_pooling2d_11\n",
            "dropout_14\n",
            "global_average_pooling2d_3\n",
            "dense_6\n",
            "dropout_15\n",
            "dense_7\n"
          ]
        }
      ]
    },
    {
      "cell_type": "code",
      "source": [
        "# Definición de las formas de entrada\n",
        "tabular_input_shape = (19,)\n",
        "vision_input_shape = (28, 28, 3)\n",
        "\n",
        "# Initialize tabular_model by calling it with dummy input\n",
        "dummy_input = np.zeros((1, tabular_input_shape[0]))  # Create dummy input\n",
        "tabular_model(dummy_input)  # Call tabular_model to initialize input layer\n",
        "\n",
        "def build_early_fusion_representation(tabular_model, image_model):\n",
        "    # Entradas\n",
        "    tabular_input = Input(shape=tabular_input_shape, name=\"tabular_input\")\n",
        "    vision_input = Input(shape=vision_input_shape, name=\"vision_input\")\n",
        "\n",
        "    # Modelos intermedios\n",
        "    tabular_intermediate = Model(\n",
        "        inputs=tabular_model.input,\n",
        "        outputs=tabular_model.get_layer('tab_dense2').output\n",
        "    )\n",
        "    vision_intermediate = Model(\n",
        "        inputs=image_model.input,\n",
        "        outputs=image_model.get_layer('dense_6').output\n",
        "    )\n",
        "\n",
        "    tabular_features = tabular_intermediate(tabular_input)\n",
        "    vision_features = vision_intermediate(vision_input)\n",
        "\n",
        "    # Fusión de las representaciones de ambas modalidades\n",
        "    merged = Concatenate()([tabular_features, vision_features])\n",
        "    merged = Dense(128, activation=\"relu\")(merged)\n",
        "    merged = Dense(64, activation=\"relu\")(merged)\n",
        "    merged = Dense(7, activation='softmax', name='tab_output')(merged)\n",
        "\n",
        "    early_fusion_representation = Model(\n",
        "        inputs=[tabular_input, vision_input],\n",
        "        outputs=merged\n",
        "    )\n",
        "    return early_fusion_representation\n",
        "\n",
        "# Crear modelos\n",
        "model = build_early_fusion_representation(tabular_model, image_model)\n",
        "model.compile(\n",
        "    loss='categorical_crossentropy',\n",
        "    optimizer=Adam(2e-5),\n",
        "    metrics=['accuracy']\n",
        ")\n",
        "\n",
        "n_epochs = 50\n",
        "\n",
        "# 8. Entrenamiento del modelo\n",
        "H = model.fit([X_label_train, X_image_train], y_train,\n",
        "          batch_size=100,\n",
        "          epochs=n_epochs,\n",
        "          validation_data=([X_label_val, X_image_val], y_val))\n",
        "\n",
        "# 9. Evaluación del modelo\n",
        "scores = model.evaluate([X_label_test, X_image_test], y_test)\n",
        "print('Loss: %.3f' % scores[0])\n",
        "print('Accuracy: %.3f' % scores[1])\n"
      ],
      "metadata": {
        "id": "mE4GGQYeIF_V",
        "outputId": "d447c2a5-a4dc-43a9-bea7-b101cf446993",
        "colab": {
          "base_uri": "https://localhost:8080/"
        }
      },
      "id": "mE4GGQYeIF_V",
      "execution_count": null,
      "outputs": [
        {
          "output_type": "stream",
          "name": "stdout",
          "text": [
            "Epoch 1/50\n",
            "\u001b[1m69/69\u001b[0m \u001b[32m━━━━━━━━━━━━━━━━━━━━\u001b[0m\u001b[37m\u001b[0m \u001b[1m15s\u001b[0m 91ms/step - accuracy: 0.4399 - loss: 1.5847 - val_accuracy: 0.6697 - val_loss: 1.0437\n",
            "Epoch 2/50\n",
            "\u001b[1m69/69\u001b[0m \u001b[32m━━━━━━━━━━━━━━━━━━━━\u001b[0m\u001b[37m\u001b[0m \u001b[1m11s\u001b[0m 14ms/step - accuracy: 0.6977 - loss: 0.8557 - val_accuracy: 0.7404 - val_loss: 0.8328\n",
            "Epoch 3/50\n",
            "\u001b[1m69/69\u001b[0m \u001b[32m━━━━━━━━━━━━━━━━━━━━\u001b[0m\u001b[37m\u001b[0m \u001b[1m1s\u001b[0m 12ms/step - accuracy: 0.8035 - loss: 0.6186 - val_accuracy: 0.7712 - val_loss: 0.7140\n",
            "Epoch 4/50\n",
            "\u001b[1m69/69\u001b[0m \u001b[32m━━━━━━━━━━━━━━━━━━━━\u001b[0m\u001b[37m\u001b[0m \u001b[1m1s\u001b[0m 10ms/step - accuracy: 0.8590 - loss: 0.4900 - val_accuracy: 0.7787 - val_loss: 0.6468\n",
            "Epoch 5/50\n",
            "\u001b[1m69/69\u001b[0m \u001b[32m━━━━━━━━━━━━━━━━━━━━\u001b[0m\u001b[37m\u001b[0m \u001b[1m1s\u001b[0m 10ms/step - accuracy: 0.8794 - loss: 0.4089 - val_accuracy: 0.7812 - val_loss: 0.6241\n",
            "Epoch 6/50\n",
            "\u001b[1m69/69\u001b[0m \u001b[32m━━━━━━━━━━━━━━━━━━━━\u001b[0m\u001b[37m\u001b[0m \u001b[1m1s\u001b[0m 10ms/step - accuracy: 0.8963 - loss: 0.3374 - val_accuracy: 0.7920 - val_loss: 0.6050\n",
            "Epoch 7/50\n",
            "\u001b[1m69/69\u001b[0m \u001b[32m━━━━━━━━━━━━━━━━━━━━\u001b[0m\u001b[37m\u001b[0m \u001b[1m1s\u001b[0m 10ms/step - accuracy: 0.9111 - loss: 0.3037 - val_accuracy: 0.7903 - val_loss: 0.6015\n",
            "Epoch 8/50\n",
            "\u001b[1m69/69\u001b[0m \u001b[32m━━━━━━━━━━━━━━━━━━━━\u001b[0m\u001b[37m\u001b[0m \u001b[1m1s\u001b[0m 10ms/step - accuracy: 0.9146 - loss: 0.2802 - val_accuracy: 0.7978 - val_loss: 0.6014\n",
            "Epoch 9/50\n",
            "\u001b[1m69/69\u001b[0m \u001b[32m━━━━━━━━━━━━━━━━━━━━\u001b[0m\u001b[37m\u001b[0m \u001b[1m1s\u001b[0m 10ms/step - accuracy: 0.9253 - loss: 0.2469 - val_accuracy: 0.7995 - val_loss: 0.5993\n",
            "Epoch 10/50\n",
            "\u001b[1m69/69\u001b[0m \u001b[32m━━━━━━━━━━━━━━━━━━━━\u001b[0m\u001b[37m\u001b[0m \u001b[1m1s\u001b[0m 11ms/step - accuracy: 0.9250 - loss: 0.2344 - val_accuracy: 0.7970 - val_loss: 0.6100\n",
            "Epoch 11/50\n",
            "\u001b[1m69/69\u001b[0m \u001b[32m━━━━━━━━━━━━━━━━━━━━\u001b[0m\u001b[37m\u001b[0m \u001b[1m1s\u001b[0m 10ms/step - accuracy: 0.9243 - loss: 0.2304 - val_accuracy: 0.7945 - val_loss: 0.6088\n",
            "Epoch 12/50\n",
            "\u001b[1m69/69\u001b[0m \u001b[32m━━━━━━━━━━━━━━━━━━━━\u001b[0m\u001b[37m\u001b[0m \u001b[1m1s\u001b[0m 10ms/step - accuracy: 0.9318 - loss: 0.2143 - val_accuracy: 0.7970 - val_loss: 0.6044\n",
            "Epoch 13/50\n",
            "\u001b[1m69/69\u001b[0m \u001b[32m━━━━━━━━━━━━━━━━━━━━\u001b[0m\u001b[37m\u001b[0m \u001b[1m1s\u001b[0m 10ms/step - accuracy: 0.9341 - loss: 0.2057 - val_accuracy: 0.7945 - val_loss: 0.6075\n",
            "Epoch 14/50\n",
            "\u001b[1m69/69\u001b[0m \u001b[32m━━━━━━━━━━━━━━━━━━━━\u001b[0m\u001b[37m\u001b[0m \u001b[1m1s\u001b[0m 11ms/step - accuracy: 0.9439 - loss: 0.1846 - val_accuracy: 0.8020 - val_loss: 0.6190\n",
            "Epoch 15/50\n",
            "\u001b[1m69/69\u001b[0m \u001b[32m━━━━━━━━━━━━━━━━━━━━\u001b[0m\u001b[37m\u001b[0m \u001b[1m1s\u001b[0m 13ms/step - accuracy: 0.9350 - loss: 0.1893 - val_accuracy: 0.7978 - val_loss: 0.6201\n",
            "Epoch 16/50\n",
            "\u001b[1m69/69\u001b[0m \u001b[32m━━━━━━━━━━━━━━━━━━━━\u001b[0m\u001b[37m\u001b[0m \u001b[1m1s\u001b[0m 11ms/step - accuracy: 0.9465 - loss: 0.1687 - val_accuracy: 0.7912 - val_loss: 0.6182\n",
            "Epoch 17/50\n",
            "\u001b[1m69/69\u001b[0m \u001b[32m━━━━━━━━━━━━━━━━━━━━\u001b[0m\u001b[37m\u001b[0m \u001b[1m1s\u001b[0m 10ms/step - accuracy: 0.9357 - loss: 0.1910 - val_accuracy: 0.8012 - val_loss: 0.6239\n",
            "Epoch 18/50\n",
            "\u001b[1m69/69\u001b[0m \u001b[32m━━━━━━━━━━━━━━━━━━━━\u001b[0m\u001b[37m\u001b[0m \u001b[1m1s\u001b[0m 10ms/step - accuracy: 0.9408 - loss: 0.1774 - val_accuracy: 0.7962 - val_loss: 0.6221\n",
            "Epoch 19/50\n",
            "\u001b[1m69/69\u001b[0m \u001b[32m━━━━━━━━━━━━━━━━━━━━\u001b[0m\u001b[37m\u001b[0m \u001b[1m1s\u001b[0m 10ms/step - accuracy: 0.9454 - loss: 0.1637 - val_accuracy: 0.7953 - val_loss: 0.6278\n",
            "Epoch 20/50\n",
            "\u001b[1m69/69\u001b[0m \u001b[32m━━━━━━━━━━━━━━━━━━━━\u001b[0m\u001b[37m\u001b[0m \u001b[1m1s\u001b[0m 10ms/step - accuracy: 0.9439 - loss: 0.1633 - val_accuracy: 0.7970 - val_loss: 0.6250\n",
            "Epoch 21/50\n",
            "\u001b[1m69/69\u001b[0m \u001b[32m━━━━━━━━━━━━━━━━━━━━\u001b[0m\u001b[37m\u001b[0m \u001b[1m1s\u001b[0m 12ms/step - accuracy: 0.9542 - loss: 0.1485 - val_accuracy: 0.7978 - val_loss: 0.6349\n",
            "Epoch 22/50\n",
            "\u001b[1m69/69\u001b[0m \u001b[32m━━━━━━━━━━━━━━━━━━━━\u001b[0m\u001b[37m\u001b[0m \u001b[1m1s\u001b[0m 12ms/step - accuracy: 0.9457 - loss: 0.1559 - val_accuracy: 0.8012 - val_loss: 0.6414\n",
            "Epoch 23/50\n",
            "\u001b[1m69/69\u001b[0m \u001b[32m━━━━━━━━━━━━━━━━━━━━\u001b[0m\u001b[37m\u001b[0m \u001b[1m1s\u001b[0m 10ms/step - accuracy: 0.9505 - loss: 0.1460 - val_accuracy: 0.8053 - val_loss: 0.6431\n",
            "Epoch 24/50\n",
            "\u001b[1m69/69\u001b[0m \u001b[32m━━━━━━━━━━━━━━━━━━━━\u001b[0m\u001b[37m\u001b[0m \u001b[1m1s\u001b[0m 10ms/step - accuracy: 0.9593 - loss: 0.1359 - val_accuracy: 0.7995 - val_loss: 0.6382\n",
            "Epoch 25/50\n",
            "\u001b[1m69/69\u001b[0m \u001b[32m━━━━━━━━━━━━━━━━━━━━\u001b[0m\u001b[37m\u001b[0m \u001b[1m1s\u001b[0m 10ms/step - accuracy: 0.9540 - loss: 0.1414 - val_accuracy: 0.7970 - val_loss: 0.6343\n",
            "Epoch 26/50\n",
            "\u001b[1m69/69\u001b[0m \u001b[32m━━━━━━━━━━━━━━━━━━━━\u001b[0m\u001b[37m\u001b[0m \u001b[1m1s\u001b[0m 10ms/step - accuracy: 0.9544 - loss: 0.1330 - val_accuracy: 0.8012 - val_loss: 0.6419\n",
            "Epoch 27/50\n",
            "\u001b[1m69/69\u001b[0m \u001b[32m━━━━━━━━━━━━━━━━━━━━\u001b[0m\u001b[37m\u001b[0m \u001b[1m1s\u001b[0m 13ms/step - accuracy: 0.9547 - loss: 0.1363 - val_accuracy: 0.8012 - val_loss: 0.6551\n",
            "Epoch 28/50\n",
            "\u001b[1m69/69\u001b[0m \u001b[32m━━━━━━━━━━━━━━━━━━━━\u001b[0m\u001b[37m\u001b[0m \u001b[1m1s\u001b[0m 13ms/step - accuracy: 0.9591 - loss: 0.1283 - val_accuracy: 0.8003 - val_loss: 0.6522\n",
            "Epoch 29/50\n",
            "\u001b[1m69/69\u001b[0m \u001b[32m━━━━━━━━━━━━━━━━━━━━\u001b[0m\u001b[37m\u001b[0m \u001b[1m1s\u001b[0m 11ms/step - accuracy: 0.9595 - loss: 0.1306 - val_accuracy: 0.8028 - val_loss: 0.6529\n",
            "Epoch 30/50\n",
            "\u001b[1m69/69\u001b[0m \u001b[32m━━━━━━━━━━━━━━━━━━━━\u001b[0m\u001b[37m\u001b[0m \u001b[1m1s\u001b[0m 10ms/step - accuracy: 0.9542 - loss: 0.1348 - val_accuracy: 0.8078 - val_loss: 0.6612\n",
            "Epoch 31/50\n",
            "\u001b[1m69/69\u001b[0m \u001b[32m━━━━━━━━━━━━━━━━━━━━\u001b[0m\u001b[37m\u001b[0m \u001b[1m1s\u001b[0m 10ms/step - accuracy: 0.9584 - loss: 0.1256 - val_accuracy: 0.8028 - val_loss: 0.6614\n",
            "Epoch 32/50\n",
            "\u001b[1m69/69\u001b[0m \u001b[32m━━━━━━━━━━━━━━━━━━━━\u001b[0m\u001b[37m\u001b[0m \u001b[1m1s\u001b[0m 10ms/step - accuracy: 0.9550 - loss: 0.1234 - val_accuracy: 0.8045 - val_loss: 0.6704\n",
            "Epoch 33/50\n",
            "\u001b[1m69/69\u001b[0m \u001b[32m━━━━━━━━━━━━━━━━━━━━\u001b[0m\u001b[37m\u001b[0m \u001b[1m1s\u001b[0m 10ms/step - accuracy: 0.9617 - loss: 0.1241 - val_accuracy: 0.8037 - val_loss: 0.6593\n",
            "Epoch 34/50\n",
            "\u001b[1m69/69\u001b[0m \u001b[32m━━━━━━━━━━━━━━━━━━━━\u001b[0m\u001b[37m\u001b[0m \u001b[1m1s\u001b[0m 10ms/step - accuracy: 0.9632 - loss: 0.1165 - val_accuracy: 0.8020 - val_loss: 0.6533\n",
            "Epoch 35/50\n",
            "\u001b[1m69/69\u001b[0m \u001b[32m━━━━━━━━━━━━━━━━━━━━\u001b[0m\u001b[37m\u001b[0m \u001b[1m1s\u001b[0m 10ms/step - accuracy: 0.9571 - loss: 0.1186 - val_accuracy: 0.8037 - val_loss: 0.6675\n",
            "Epoch 36/50\n",
            "\u001b[1m69/69\u001b[0m \u001b[32m━━━━━━━━━━━━━━━━━━━━\u001b[0m\u001b[37m\u001b[0m \u001b[1m1s\u001b[0m 10ms/step - accuracy: 0.9618 - loss: 0.1120 - val_accuracy: 0.8020 - val_loss: 0.6677\n",
            "Epoch 37/50\n",
            "\u001b[1m69/69\u001b[0m \u001b[32m━━━━━━━━━━━━━━━━━━━━\u001b[0m\u001b[37m\u001b[0m \u001b[1m1s\u001b[0m 10ms/step - accuracy: 0.9603 - loss: 0.1113 - val_accuracy: 0.8078 - val_loss: 0.6791\n",
            "Epoch 38/50\n",
            "\u001b[1m69/69\u001b[0m \u001b[32m━━━━━━━━━━━━━━━━━━━━\u001b[0m\u001b[37m\u001b[0m \u001b[1m1s\u001b[0m 10ms/step - accuracy: 0.9560 - loss: 0.1200 - val_accuracy: 0.8020 - val_loss: 0.6721\n",
            "Epoch 39/50\n",
            "\u001b[1m69/69\u001b[0m \u001b[32m━━━━━━━━━━━━━━━━━━━━\u001b[0m\u001b[37m\u001b[0m \u001b[1m1s\u001b[0m 12ms/step - accuracy: 0.9624 - loss: 0.1079 - val_accuracy: 0.7995 - val_loss: 0.6778\n",
            "Epoch 40/50\n",
            "\u001b[1m69/69\u001b[0m \u001b[32m━━━━━━━━━━━━━━━━━━━━\u001b[0m\u001b[37m\u001b[0m \u001b[1m1s\u001b[0m 13ms/step - accuracy: 0.9625 - loss: 0.1108 - val_accuracy: 0.8053 - val_loss: 0.6762\n",
            "Epoch 41/50\n",
            "\u001b[1m69/69\u001b[0m \u001b[32m━━━━━━━━━━━━━━━━━━━━\u001b[0m\u001b[37m\u001b[0m \u001b[1m1s\u001b[0m 10ms/step - accuracy: 0.9584 - loss: 0.1121 - val_accuracy: 0.8062 - val_loss: 0.6707\n",
            "Epoch 42/50\n",
            "\u001b[1m69/69\u001b[0m \u001b[32m━━━━━━━━━━━━━━━━━━━━\u001b[0m\u001b[37m\u001b[0m \u001b[1m1s\u001b[0m 10ms/step - accuracy: 0.9659 - loss: 0.1035 - val_accuracy: 0.8078 - val_loss: 0.6757\n",
            "Epoch 43/50\n",
            "\u001b[1m69/69\u001b[0m \u001b[32m━━━━━━━━━━━━━━━━━━━━\u001b[0m\u001b[37m\u001b[0m \u001b[1m1s\u001b[0m 10ms/step - accuracy: 0.9646 - loss: 0.1116 - val_accuracy: 0.8095 - val_loss: 0.6836\n",
            "Epoch 44/50\n",
            "\u001b[1m69/69\u001b[0m \u001b[32m━━━━━━━━━━━━━━━━━━━━\u001b[0m\u001b[37m\u001b[0m \u001b[1m1s\u001b[0m 10ms/step - accuracy: 0.9628 - loss: 0.1078 - val_accuracy: 0.8045 - val_loss: 0.6939\n",
            "Epoch 45/50\n",
            "\u001b[1m69/69\u001b[0m \u001b[32m━━━━━━━━━━━━━━━━━━━━\u001b[0m\u001b[37m\u001b[0m \u001b[1m1s\u001b[0m 10ms/step - accuracy: 0.9672 - loss: 0.1058 - val_accuracy: 0.8062 - val_loss: 0.7054\n",
            "Epoch 46/50\n",
            "\u001b[1m69/69\u001b[0m \u001b[32m━━━━━━━━━━━━━━━━━━━━\u001b[0m\u001b[37m\u001b[0m \u001b[1m1s\u001b[0m 10ms/step - accuracy: 0.9674 - loss: 0.0998 - val_accuracy: 0.8037 - val_loss: 0.6782\n",
            "Epoch 47/50\n",
            "\u001b[1m69/69\u001b[0m \u001b[32m━━━━━━━━━━━━━━━━━━━━\u001b[0m\u001b[37m\u001b[0m \u001b[1m1s\u001b[0m 10ms/step - accuracy: 0.9673 - loss: 0.1028 - val_accuracy: 0.8078 - val_loss: 0.7006\n",
            "Epoch 48/50\n",
            "\u001b[1m69/69\u001b[0m \u001b[32m━━━━━━━━━━━━━━━━━━━━\u001b[0m\u001b[37m\u001b[0m \u001b[1m1s\u001b[0m 10ms/step - accuracy: 0.9680 - loss: 0.0963 - val_accuracy: 0.8095 - val_loss: 0.6908\n",
            "Epoch 49/50\n",
            "\u001b[1m69/69\u001b[0m \u001b[32m━━━━━━━━━━━━━━━━━━━━\u001b[0m\u001b[37m\u001b[0m \u001b[1m1s\u001b[0m 10ms/step - accuracy: 0.9623 - loss: 0.1186 - val_accuracy: 0.8037 - val_loss: 0.6905\n",
            "Epoch 50/50\n",
            "\u001b[1m69/69\u001b[0m \u001b[32m━━━━━━━━━━━━━━━━━━━━\u001b[0m\u001b[37m\u001b[0m \u001b[1m1s\u001b[0m 13ms/step - accuracy: 0.9622 - loss: 0.1062 - val_accuracy: 0.8028 - val_loss: 0.6784\n",
            "\u001b[1m63/63\u001b[0m \u001b[32m━━━━━━━━━━━━━━━━━━━━\u001b[0m\u001b[37m\u001b[0m \u001b[1m1s\u001b[0m 8ms/step - accuracy: 0.7767 - loss: 0.7677\n",
            "Loss: 0.749\n",
            "Accuracy: 0.785\n"
          ]
        }
      ]
    },
    {
      "cell_type": "markdown",
      "source": [
        "## 4. Gráfica de Perdidas"
      ],
      "metadata": {
        "id": "wbLD9i9pKwLc"
      },
      "id": "wbLD9i9pKwLc"
    },
    {
      "cell_type": "code",
      "source": [
        "# veamos nuestra función de pérdidas con respecto a las épocas ejecutadas\n",
        "plt.style.use(\"ggplot\")\n",
        "plt.figure()\n",
        "plt.plot(np.arange(0, n_epochs), H.history[\"loss\"], label=\"train_loss\")\n",
        "plt.plot(np.arange(0, n_epochs), H.history[\"val_loss\"], label=\"val_loss\")\n",
        "plt.plot(np.arange(0, n_epochs), H.history[\"accuracy\"], label=\"train_acc\")\n",
        "plt.plot(np.arange(0, n_epochs), H.history[\"val_accuracy\"], label=\"val_acc\")\n",
        "plt.title(\"Training Loss and Accuracy\")\n",
        "plt.xlabel(\"Epoch #\")\n",
        "plt.ylabel(\"Loss/Accuracy\")\n",
        "plt.legend()"
      ],
      "metadata": {
        "id": "qDEI_KuxKXZR",
        "outputId": "d32edd31-8f5c-40e1-d3d9-4c991c20f2b2",
        "colab": {
          "base_uri": "https://localhost:8080/",
          "height": 494
        }
      },
      "id": "qDEI_KuxKXZR",
      "execution_count": null,
      "outputs": [
        {
          "output_type": "execute_result",
          "data": {
            "text/plain": [
              "<matplotlib.legend.Legend at 0x79e139929cd0>"
            ]
          },
          "metadata": {},
          "execution_count": 22
        },
        {
          "output_type": "display_data",
          "data": {
            "text/plain": [
              "<Figure size 640x480 with 1 Axes>"
            ],
            "image/png": "[encoded data removed]"
          },
          "metadata": {}
        }
      ]
    },
    {
      "cell_type": "code",
      "source": [
        "# Guardamos el resultado\n",
        "model.save(\"/content/earlyfusion_model.keras\")"
      ],
      "metadata": {
        "id": "GNHWEKcPuoj-"
      },
      "id": "GNHWEKcPuoj-",
      "execution_count": null,
      "outputs": []
    },
    {
      "cell_type": "markdown",
      "source": [
        "## 5. Concluciones"
      ],
      "metadata": {
        "id": "m3DusFPhK8tX"
      },
      "id": "m3DusFPhK8tX"
    },
    {
      "cell_type": "code",
      "source": [
        "model.summary()"
      ],
      "metadata": {
        "colab": {
          "base_uri": "https://localhost:8080/",
          "height": 459
        },
        "id": "iq5WUVF5w02O",
        "outputId": "08850de4-1f73-4bcf-be73-33294e86d5d6"
      },
      "id": "iq5WUVF5w02O",
      "execution_count": null,
      "outputs": [
        {
          "output_type": "display_data",
          "data": {
            "text/plain": [
              "\u001b[1mModel: \"functional_9\"\u001b[0m\n"
            ],
            "text/html": [
              "<pre style=\"white-space:pre;overflow-x:auto;line-height:normal;font-family:Menlo,'DejaVu Sans Mono',consolas,'Courier New',monospace\"><span style=\"font-weight: bold\">Model: \"functional_9\"</span>\n",
              "</pre>\n"
            ]
          },
          "metadata": {}
        },
        {
          "output_type": "display_data",
          "data": {
            "text/plain": [
              "┏━━━━━━━━━━━━━━━━━━━━━━━━━━━┳━━━━━━━━━━━━━━━━━━━━━━━━┳━━━━━━━━━━━━━━━━┳━━━━━━━━━━━━━━━━━━━━━━━━┓\n",
              "┃\u001b[1m \u001b[0m\u001b[1mLayer (type)             \u001b[0m\u001b[1m \u001b[0m┃\u001b[1m \u001b[0m\u001b[1mOutput Shape          \u001b[0m\u001b[1m \u001b[0m┃\u001b[1m \u001b[0m\u001b[1m       Param #\u001b[0m\u001b[1m \u001b[0m┃\u001b[1m \u001b[0m\u001b[1mConnected to          \u001b[0m\u001b[1m \u001b[0m┃\n",
              "┡━━━━━━━━━━━━━━━━━━━━━━━━━━━╇━━━━━━━━━━━━━━━━━━━━━━━━╇━━━━━━━━━━━━━━━━╇━━━━━━━━━━━━━━━━━━━━━━━━┩\n",
              "│ tabular_input             │ (\u001b[38;5;45mNone\u001b[0m, \u001b[38;5;34m19\u001b[0m)             │              \u001b[38;5;34m0\u001b[0m │ -                      │\n",
              "│ (\u001b[38;5;33mInputLayer\u001b[0m)              │                        │                │                        │\n",
              "├───────────────────────────┼────────────────────────┼────────────────┼────────────────────────┤\n",
              "│ vision_input (\u001b[38;5;33mInputLayer\u001b[0m) │ (\u001b[38;5;45mNone\u001b[0m, \u001b[38;5;34m28\u001b[0m, \u001b[38;5;34m28\u001b[0m, \u001b[38;5;34m3\u001b[0m)      │              \u001b[38;5;34m0\u001b[0m │ -                      │\n",
              "├───────────────────────────┼────────────────────────┼────────────────┼────────────────────────┤\n",
              "│ functional_7 (\u001b[38;5;33mFunctional\u001b[0m) │ (\u001b[38;5;45mNone\u001b[0m, \u001b[38;5;34m16\u001b[0m)             │            \u001b[38;5;34m880\u001b[0m │ tabular_input[\u001b[38;5;34m0\u001b[0m][\u001b[38;5;34m0\u001b[0m]    │\n",
              "├───────────────────────────┼────────────────────────┼────────────────┼────────────────────────┤\n",
              "│ functional_8 (\u001b[38;5;33mFunctional\u001b[0m) │ (\u001b[38;5;45mNone\u001b[0m, \u001b[38;5;34m1024\u001b[0m)           │        \u001b[38;5;34m432,384\u001b[0m │ vision_input[\u001b[38;5;34m0\u001b[0m][\u001b[38;5;34m0\u001b[0m]     │\n",
              "├───────────────────────────┼────────────────────────┼────────────────┼────────────────────────┤\n",
              "│ concatenate_2             │ (\u001b[38;5;45mNone\u001b[0m, \u001b[38;5;34m1040\u001b[0m)           │              \u001b[38;5;34m0\u001b[0m │ functional_7[\u001b[38;5;34m0\u001b[0m][\u001b[38;5;34m0\u001b[0m],    │\n",
              "│ (\u001b[38;5;33mConcatenate\u001b[0m)             │                        │                │ functional_8[\u001b[38;5;34m0\u001b[0m][\u001b[38;5;34m0\u001b[0m]     │\n",
              "├───────────────────────────┼────────────────────────┼────────────────┼────────────────────────┤\n",
              "│ dense (\u001b[38;5;33mDense\u001b[0m)             │ (\u001b[38;5;45mNone\u001b[0m, \u001b[38;5;34m128\u001b[0m)            │        \u001b[38;5;34m133,248\u001b[0m │ concatenate_2[\u001b[38;5;34m0\u001b[0m][\u001b[38;5;34m0\u001b[0m]    │\n",
              "├───────────────────────────┼────────────────────────┼────────────────┼────────────────────────┤\n",
              "│ dense_1 (\u001b[38;5;33mDense\u001b[0m)           │ (\u001b[38;5;45mNone\u001b[0m, \u001b[38;5;34m64\u001b[0m)             │          \u001b[38;5;34m8,256\u001b[0m │ dense[\u001b[38;5;34m0\u001b[0m][\u001b[38;5;34m0\u001b[0m]            │\n",
              "├───────────────────────────┼────────────────────────┼────────────────┼────────────────────────┤\n",
              "│ tab_output (\u001b[38;5;33mDense\u001b[0m)        │ (\u001b[38;5;45mNone\u001b[0m, \u001b[38;5;34m7\u001b[0m)              │            \u001b[38;5;34m455\u001b[0m │ dense_1[\u001b[38;5;34m0\u001b[0m][\u001b[38;5;34m0\u001b[0m]          │\n",
              "└───────────────────────────┴────────────────────────┴────────────────┴────────────────────────┘\n"
            ],
            "text/html": [
              "<pre style=\"white-space:pre;overflow-x:auto;line-height:normal;font-family:Menlo,'DejaVu Sans Mono',consolas,'Courier New',monospace\">┏━━━━━━━━━━━━━━━━━━━━━━━━━━━┳━━━━━━━━━━━━━━━━━━━━━━━━┳━━━━━━━━━━━━━━━━┳━━━━━━━━━━━━━━━━━━━━━━━━┓\n",
              "┃<span style=\"font-weight: bold\"> Layer (type)              </span>┃<span style=\"font-weight: bold\"> Output Shape           </span>┃<span style=\"font-weight: bold\">        Param # </span>┃<span style=\"font-weight: bold\"> Connected to           </span>┃\n",
              "┡━━━━━━━━━━━━━━━━━━━━━━━━━━━╇━━━━━━━━━━━━━━━━━━━━━━━━╇━━━━━━━━━━━━━━━━╇━━━━━━━━━━━━━━━━━━━━━━━━┩\n",
              "│ tabular_input             │ (<span style=\"color: #00d7ff; text-decoration-color: #00d7ff\">None</span>, <span style=\"color: #00af00; text-decoration-color: #00af00\">19</span>)             │              <span style=\"color: #00af00; text-decoration-color: #00af00\">0</span> │ -                      │\n",
              "│ (<span style=\"color: #0087ff; text-decoration-color: #0087ff\">InputLayer</span>)              │                        │                │                        │\n",
              "├───────────────────────────┼────────────────────────┼────────────────┼────────────────────────┤\n",
              "│ vision_input (<span style=\"color: #0087ff; text-decoration-color: #0087ff\">InputLayer</span>) │ (<span style=\"color: #00d7ff; text-decoration-color: #00d7ff\">None</span>, <span style=\"color: #00af00; text-decoration-color: #00af00\">28</span>, <span style=\"color: #00af00; text-decoration-color: #00af00\">28</span>, <span style=\"color: #00af00; text-decoration-color: #00af00\">3</span>)      │              <span style=\"color: #00af00; text-decoration-color: #00af00\">0</span> │ -                      │\n",
              "├───────────────────────────┼────────────────────────┼────────────────┼────────────────────────┤\n",
              "│ functional_7 (<span style=\"color: #0087ff; text-decoration-color: #0087ff\">Functional</span>) │ (<span style=\"color: #00d7ff; text-decoration-color: #00d7ff\">None</span>, <span style=\"color: #00af00; text-decoration-color: #00af00\">16</span>)             │            <span style=\"color: #00af00; text-decoration-color: #00af00\">880</span> │ tabular_input[<span style=\"color: #00af00; text-decoration-color: #00af00\">0</span>][<span style=\"color: #00af00; text-decoration-color: #00af00\">0</span>]    │\n",
              "├───────────────────────────┼────────────────────────┼────────────────┼────────────────────────┤\n",
              "│ functional_8 (<span style=\"color: #0087ff; text-decoration-color: #0087ff\">Functional</span>) │ (<span style=\"color: #00d7ff; text-decoration-color: #00d7ff\">None</span>, <span style=\"color: #00af00; text-decoration-color: #00af00\">1024</span>)           │        <span style=\"color: #00af00; text-decoration-color: #00af00\">432,384</span> │ vision_input[<span style=\"color: #00af00; text-decoration-color: #00af00\">0</span>][<span style=\"color: #00af00; text-decoration-color: #00af00\">0</span>]     │\n",
              "├───────────────────────────┼────────────────────────┼────────────────┼────────────────────────┤\n",
              "│ concatenate_2             │ (<span style=\"color: #00d7ff; text-decoration-color: #00d7ff\">None</span>, <span style=\"color: #00af00; text-decoration-color: #00af00\">1040</span>)           │              <span style=\"color: #00af00; text-decoration-color: #00af00\">0</span> │ functional_7[<span style=\"color: #00af00; text-decoration-color: #00af00\">0</span>][<span style=\"color: #00af00; text-decoration-color: #00af00\">0</span>],    │\n",
              "│ (<span style=\"color: #0087ff; text-decoration-color: #0087ff\">Concatenate</span>)             │                        │                │ functional_8[<span style=\"color: #00af00; text-decoration-color: #00af00\">0</span>][<span style=\"color: #00af00; text-decoration-color: #00af00\">0</span>]     │\n",
              "├───────────────────────────┼────────────────────────┼────────────────┼────────────────────────┤\n",
              "│ dense (<span style=\"color: #0087ff; text-decoration-color: #0087ff\">Dense</span>)             │ (<span style=\"color: #00d7ff; text-decoration-color: #00d7ff\">None</span>, <span style=\"color: #00af00; text-decoration-color: #00af00\">128</span>)            │        <span style=\"color: #00af00; text-decoration-color: #00af00\">133,248</span> │ concatenate_2[<span style=\"color: #00af00; text-decoration-color: #00af00\">0</span>][<span style=\"color: #00af00; text-decoration-color: #00af00\">0</span>]    │\n",
              "├───────────────────────────┼────────────────────────┼────────────────┼────────────────────────┤\n",
              "│ dense_1 (<span style=\"color: #0087ff; text-decoration-color: #0087ff\">Dense</span>)           │ (<span style=\"color: #00d7ff; text-decoration-color: #00d7ff\">None</span>, <span style=\"color: #00af00; text-decoration-color: #00af00\">64</span>)             │          <span style=\"color: #00af00; text-decoration-color: #00af00\">8,256</span> │ dense[<span style=\"color: #00af00; text-decoration-color: #00af00\">0</span>][<span style=\"color: #00af00; text-decoration-color: #00af00\">0</span>]            │\n",
              "├───────────────────────────┼────────────────────────┼────────────────┼────────────────────────┤\n",
              "│ tab_output (<span style=\"color: #0087ff; text-decoration-color: #0087ff\">Dense</span>)        │ (<span style=\"color: #00d7ff; text-decoration-color: #00d7ff\">None</span>, <span style=\"color: #00af00; text-decoration-color: #00af00\">7</span>)              │            <span style=\"color: #00af00; text-decoration-color: #00af00\">455</span> │ dense_1[<span style=\"color: #00af00; text-decoration-color: #00af00\">0</span>][<span style=\"color: #00af00; text-decoration-color: #00af00\">0</span>]          │\n",
              "└───────────────────────────┴────────────────────────┴────────────────┴────────────────────────┘\n",
              "</pre>\n"
            ]
          },
          "metadata": {}
        },
        {
          "output_type": "display_data",
          "data": {
            "text/plain": [
              "\u001b[1m Total params: \u001b[0m\u001b[38;5;34m1,724,135\u001b[0m (6.58 MB)\n"
            ],
            "text/html": [
              "<pre style=\"white-space:pre;overflow-x:auto;line-height:normal;font-family:Menlo,'DejaVu Sans Mono',consolas,'Courier New',monospace\"><span style=\"font-weight: bold\"> Total params: </span><span style=\"color: #00af00; text-decoration-color: #00af00\">1,724,135</span> (6.58 MB)\n",
              "</pre>\n"
            ]
          },
          "metadata": {}
        },
        {
          "output_type": "display_data",
          "data": {
            "text/plain": [
              "\u001b[1m Trainable params: \u001b[0m\u001b[38;5;34m574,455\u001b[0m (2.19 MB)\n"
            ],
            "text/html": [
              "<pre style=\"white-space:pre;overflow-x:auto;line-height:normal;font-family:Menlo,'DejaVu Sans Mono',consolas,'Courier New',monospace\"><span style=\"font-weight: bold\"> Trainable params: </span><span style=\"color: #00af00; text-decoration-color: #00af00\">574,455</span> (2.19 MB)\n",
              "</pre>\n"
            ]
          },
          "metadata": {}
        },
        {
          "output_type": "display_data",
          "data": {
            "text/plain": [
              "\u001b[1m Non-trainable params: \u001b[0m\u001b[38;5;34m768\u001b[0m (3.00 KB)\n"
            ],
            "text/html": [
              "<pre style=\"white-space:pre;overflow-x:auto;line-height:normal;font-family:Menlo,'DejaVu Sans Mono',consolas,'Courier New',monospace\"><span style=\"font-weight: bold\"> Non-trainable params: </span><span style=\"color: #00af00; text-decoration-color: #00af00\">768</span> (3.00 KB)\n",
              "</pre>\n"
            ]
          },
          "metadata": {}
        },
        {
          "output_type": "display_data",
          "data": {
            "text/plain": [
              "\u001b[1m Optimizer params: \u001b[0m\u001b[38;5;34m1,148,912\u001b[0m (4.38 MB)\n"
            ],
            "text/html": [
              "<pre style=\"white-space:pre;overflow-x:auto;line-height:normal;font-family:Menlo,'DejaVu Sans Mono',consolas,'Courier New',monospace\"><span style=\"font-weight: bold\"> Optimizer params: </span><span style=\"color: #00af00; text-decoration-color: #00af00\">1,148,912</span> (4.38 MB)\n",
              "</pre>\n"
            ]
          },
          "metadata": {}
        }
      ]
    },
    {
      "cell_type": "markdown",
      "source": [
        "Durante el desarrollo de este modelo multimodal usando early fusion, el objetivo principal fue integrar datos tabulares y visuales (imágenes) en una sola arquitectura que permitiera aprovechar lo mejor de ambos mundos. A lo largo del proceso, se identificaron varios retos técnicos, especialmente relacionados con la estructura de los modelos de entrada y la compatibilidad de sus arquitecturas para una fusión efectiva.\n",
        "\n",
        "Uno de los principales obstáculos fue que tanto el modelo tabular como el de imágenes estaban construidos utilizando la API Sequential, lo cual limita la flexibilidad a la hora de hacer fusiones intermedias o acceder a capas específicas. Esto provocó errores durante la construcción del modelo de fusión y durante el entrenamiento, ya que Keras no podía gestionar adecuadamente múltiples entradas ni acceder correctamente a las salidas intermedias necesarias para la concatenación.\n",
        "\n",
        "La solución consistió en reconstruir ambos modelos usando la API funcional de Keras, lo que permitió seleccionar capas intermedias como puntos de salida (tab_dense2 en el modelo tabular, por ejemplo), y fusionarlas correctamente. Este cambio fue clave para lograr que el modelo final compilara y entrenara sin errores.\n",
        "\n",
        "Además, se comprobó empíricamente que usar la última capa como punto de fusión no siempre es lo ideal, ya que puede estar demasiado especializada en la tarea individual del submodelo. Al utilizar una capa intermedia (como tab_dense2), se logra una representación más rica y general que permite a la red combinada aprender de forma más eficaz.\n",
        "\n"
      ],
      "metadata": {
        "id": "s-kPUhIOLCie"
      },
      "id": "s-kPUhIOLCie"
    }
  ],
  "metadata": {
    "kernelspec": {
      "display_name": "Python 3",
      "name": "python3"
    },
    "language_info": {
      "name": "python"
    },
    "colab": {
      "provenance": [],
      "gpuType": "T4",
      "include_colab_link": true
    },
    "accelerator": "GPU"
  },
  "nbformat": 4,
  "nbformat_minor": 5
}