{
  "cells": [
    {
      "cell_type": "markdown",
      "metadata": {
        "id": "view-in-github",
        "colab_type": "text"
      },
      "source": [
        "<a href=\"https://colab.research.google.com/github/Pepe-Padilla/deep-learning/blob/main/Modelo1D.ipynb\" target=\"_parent\"><img src=\"https://colab.research.google.com/assets/colab-badge.svg\" alt=\"Open In Colab\"/></a>"
      ]
    },
    {
      "cell_type": "markdown",
      "source": [
        "# Modelo1D - DeepLearning\n"
      ],
      "metadata": {
        "id": "anj-GbhgZ_dz"
      },
      "id": "anj-GbhgZ_dz"
    },
    {
      "cell_type": "markdown",
      "source": [
        "### Indice\n",
        "1. Introducción\n",
        "2. Importación y Normalización de datos\n",
        "3. Entrenamiento\n",
        "4. Gráfica de Perdidas\n",
        "5. Test\n",
        "6. Concluciones"
      ],
      "metadata": {
        "id": "ftgA-BvZqssP"
      },
      "id": "ftgA-BvZqssP"
    },
    {
      "cell_type": "markdown",
      "source": [
        "##  1. Introducción"
      ],
      "metadata": {
        "id": "d8MjiSdDsajN"
      },
      "id": "d8MjiSdDsajN"
    },
    {
      "cell_type": "markdown",
      "source": [
        "**Práctica DL** - Ejercicio de Bootcamp Inteligencia Artificial Full Stack Edición III\n",
        "\n",
        "Este proyecto es un entregable para la práctica del Master Bootcamp Inteligencia Artificial Full Stack Edición III realizado por el centro de formación [@Keepcoding](https://github.com/KeepCoding)\n",
        "\n",
        "---\n",
        "\n",
        "El objetivo de este trabajo consiste en resolver un problema del mundo real empleando para ello técnicas vistas durante las sesiones de dicho módulo. En concreto, se trabajará en predecir la condición médica sufrida por una cohorte de pacientes a partir de las diferentes fuentes de información disponibles (imágenes y datos tabulares).\n",
        "\n",
        "Las imagenes deben entrenar y obtener una de los siguientes respuestas:\n",
        "\n",
        "| Enfermedad | Descripción | Código | Indice en salida |\n",
        "|------------|-------------|--------|------------------|\n",
        "| Actinic keratoses y carcinoma de células escamosas | Tipo de cáncer de piel | akiec | 0 |\n",
        "| Nevus melanocítico | Lesión benigna común | nv | 1 |\n",
        "| Melanoma | Tipo de cáncer de piel agresivo | mel | 2 |\n",
        "| Lesiones benignas de queratosis | Incluyen lentigo solar y queratosis seborreica | bkl | 3 |\n",
        "| Dermatofibroma | Lesión benigna del tejido fibroso | df | 4 |\n",
        "| Vasculares | Lesiones vasculares como hemangiomas | vasc | 5 |\n",
        "| Lesión de células basales | Un tipo de cáncer de piel menos agresivo que el melanoma | bcc | 6 |\n",
        "\n",
        "---\n",
        "\n"
      ],
      "metadata": {
        "id": "zcRHZ_Gzm4ax"
      },
      "id": "zcRHZ_Gzm4ax"
    },
    {
      "cell_type": "markdown",
      "source": [
        "## 2. Importación y Normalización de datos"
      ],
      "metadata": {
        "id": "h-EVoxAar8z5"
      },
      "id": "h-EVoxAar8z5"
    },
    {
      "cell_type": "markdown",
      "source": [
        "### 2.1 Imports"
      ],
      "metadata": {
        "id": "Bqi5lUEco_x3"
      },
      "id": "Bqi5lUEco_x3"
    },
    {
      "cell_type": "code",
      "source": [
        "# 1. Primero las importaciones que necesitaremos\n",
        "import numpy as np\n",
        "import pandas as pd\n",
        "import tensorflow as tf\n",
        "import matplotlib.pyplot as plt\n",
        "from sklearn.model_selection import train_test_split\n",
        "from sklearn.preprocessing import MinMaxScaler, LabelEncoder\n",
        "from tensorflow.keras.utils import to_categorical"
      ],
      "metadata": {
        "id": "floJBQKoo9Yi"
      },
      "id": "floJBQKoo9Yi",
      "execution_count": 1,
      "outputs": []
    },
    {
      "cell_type": "markdown",
      "source": [
        "### 2.2 Obtención de datos"
      ],
      "metadata": {
        "id": "c9fbl52MpHYT"
      },
      "id": "c9fbl52MpHYT"
    },
    {
      "cell_type": "code",
      "source": [
        "# 2. Obtención de datos\n",
        "#dataframe = pd.read_csv(\"/content/HAM10000_metadata.csv\", usecols=[1], engine='python', skipfooter=3)\n",
        "#df = dataframe.values\n",
        "df = pd.read_csv(\"/content/HAM10000_metadata.csv\", sep=\",\")\n"
      ],
      "metadata": {
        "id": "9enRemE_m01j"
      },
      "id": "9enRemE_m01j",
      "execution_count": 2,
      "outputs": []
    },
    {
      "cell_type": "markdown",
      "source": [
        "### 2.3 Inspección de elementos"
      ],
      "metadata": {
        "id": "SzVwVBfrpR7o"
      },
      "id": "SzVwVBfrpR7o"
    },
    {
      "cell_type": "code",
      "source": [
        "# 3. Inspeccionamos y normalización\n",
        "print(df.head())\n",
        "print(df.info())\n",
        "print(df.describe())\n",
        "\n",
        "# Primero busquemos nulls en las columnas que valgan la pena\n",
        "print(df.isnull().sum())\n",
        "\n",
        "# Solo age tiene null, solo se me ocurre rellenar con la mediana\n",
        "df[\"age\"] = df[\"age\"].fillna(df[\"age\"].median())\n",
        "df['age'] = df['age'] / 100  # Escalamos considerando 100 como el máximo teórico\n",
        "\n",
        "# para evitar problemas después, convertir el tipo de age a un float compatible para Tensor\n",
        "df['age'] = df['age'].astype('float32')\n",
        "\n",
        "# Convertimos las variables 'sex' y 'localization' a categorías one-hot encoding\n",
        "df = pd.get_dummies(df, columns=['sex', 'localization','dx'])\n"
      ],
      "metadata": {
        "colab": {
          "base_uri": "https://localhost:8080/"
        },
        "id": "hALkPFF8prrN",
        "outputId": "f083e3e3-1644-4029-9a14-0a4415131901"
      },
      "id": "hALkPFF8prrN",
      "execution_count": 3,
      "outputs": [
        {
          "output_type": "stream",
          "name": "stdout",
          "text": [
            "     lesion_id      image_id   dx dx_type   age   sex localization\n",
            "0  HAM_0000118  ISIC_0027419  bkl   histo  80.0  male        scalp\n",
            "1  HAM_0000118  ISIC_0025030  bkl   histo  80.0  male        scalp\n",
            "2  HAM_0002730  ISIC_0026769  bkl   histo  80.0  male        scalp\n",
            "3  HAM_0002730  ISIC_0025661  bkl   histo  80.0  male        scalp\n",
            "4  HAM_0001466  ISIC_0031633  bkl   histo  75.0  male          ear\n",
            "<class 'pandas.core.frame.DataFrame'>\n",
            "RangeIndex: 10015 entries, 0 to 10014\n",
            "Data columns (total 7 columns):\n",
            " #   Column        Non-Null Count  Dtype  \n",
            "---  ------        --------------  -----  \n",
            " 0   lesion_id     10015 non-null  object \n",
            " 1   image_id      10015 non-null  object \n",
            " 2   dx            10015 non-null  object \n",
            " 3   dx_type       10015 non-null  object \n",
            " 4   age           9958 non-null   float64\n",
            " 5   sex           10015 non-null  object \n",
            " 6   localization  10015 non-null  object \n",
            "dtypes: float64(1), object(6)\n",
            "memory usage: 547.8+ KB\n",
            "None\n",
            "               age\n",
            "count  9958.000000\n",
            "mean     51.863828\n",
            "std      16.968614\n",
            "min       0.000000\n",
            "25%      40.000000\n",
            "50%      50.000000\n",
            "75%      65.000000\n",
            "max      85.000000\n",
            "lesion_id        0\n",
            "image_id         0\n",
            "dx               0\n",
            "dx_type          0\n",
            "age             57\n",
            "sex              0\n",
            "localization     0\n",
            "dtype: int64\n"
          ]
        }
      ]
    },
    {
      "cell_type": "code",
      "source": [
        "print(df.head())\n",
        "print(df.info())\n",
        "print(df.describe())"
      ],
      "metadata": {
        "id": "GE1ov9PwzNWp",
        "outputId": "96da9db3-a78f-4694-929c-3c3926828758",
        "colab": {
          "base_uri": "https://localhost:8080/"
        }
      },
      "id": "GE1ov9PwzNWp",
      "execution_count": 4,
      "outputs": [
        {
          "output_type": "stream",
          "name": "stdout",
          "text": [
            "     lesion_id      image_id dx_type   age  sex_female  sex_male  sex_unknown  \\\n",
            "0  HAM_0000118  ISIC_0027419   histo  0.80       False      True        False   \n",
            "1  HAM_0000118  ISIC_0025030   histo  0.80       False      True        False   \n",
            "2  HAM_0002730  ISIC_0026769   histo  0.80       False      True        False   \n",
            "3  HAM_0002730  ISIC_0025661   histo  0.80       False      True        False   \n",
            "4  HAM_0001466  ISIC_0031633   histo  0.75       False      True        False   \n",
            "\n",
            "   localization_abdomen  localization_acral  localization_back  ...  \\\n",
            "0                 False               False              False  ...   \n",
            "1                 False               False              False  ...   \n",
            "2                 False               False              False  ...   \n",
            "3                 False               False              False  ...   \n",
            "4                 False               False              False  ...   \n",
            "\n",
            "   localization_trunk  localization_unknown  localization_upper extremity  \\\n",
            "0               False                 False                         False   \n",
            "1               False                 False                         False   \n",
            "2               False                 False                         False   \n",
            "3               False                 False                         False   \n",
            "4               False                 False                         False   \n",
            "\n",
            "   dx_akiec  dx_bcc  dx_bkl  dx_df  dx_mel  dx_nv  dx_vasc  \n",
            "0     False   False    True  False   False  False    False  \n",
            "1     False   False    True  False   False  False    False  \n",
            "2     False   False    True  False   False  False    False  \n",
            "3     False   False    True  False   False  False    False  \n",
            "4     False   False    True  False   False  False    False  \n",
            "\n",
            "[5 rows x 29 columns]\n",
            "<class 'pandas.core.frame.DataFrame'>\n",
            "RangeIndex: 10015 entries, 0 to 10014\n",
            "Data columns (total 29 columns):\n",
            " #   Column                        Non-Null Count  Dtype  \n",
            "---  ------                        --------------  -----  \n",
            " 0   lesion_id                     10015 non-null  object \n",
            " 1   image_id                      10015 non-null  object \n",
            " 2   dx_type                       10015 non-null  object \n",
            " 3   age                           10015 non-null  float32\n",
            " 4   sex_female                    10015 non-null  bool   \n",
            " 5   sex_male                      10015 non-null  bool   \n",
            " 6   sex_unknown                   10015 non-null  bool   \n",
            " 7   localization_abdomen          10015 non-null  bool   \n",
            " 8   localization_acral            10015 non-null  bool   \n",
            " 9   localization_back             10015 non-null  bool   \n",
            " 10  localization_chest            10015 non-null  bool   \n",
            " 11  localization_ear              10015 non-null  bool   \n",
            " 12  localization_face             10015 non-null  bool   \n",
            " 13  localization_foot             10015 non-null  bool   \n",
            " 14  localization_genital          10015 non-null  bool   \n",
            " 15  localization_hand             10015 non-null  bool   \n",
            " 16  localization_lower extremity  10015 non-null  bool   \n",
            " 17  localization_neck             10015 non-null  bool   \n",
            " 18  localization_scalp            10015 non-null  bool   \n",
            " 19  localization_trunk            10015 non-null  bool   \n",
            " 20  localization_unknown          10015 non-null  bool   \n",
            " 21  localization_upper extremity  10015 non-null  bool   \n",
            " 22  dx_akiec                      10015 non-null  bool   \n",
            " 23  dx_bcc                        10015 non-null  bool   \n",
            " 24  dx_bkl                        10015 non-null  bool   \n",
            " 25  dx_df                         10015 non-null  bool   \n",
            " 26  dx_mel                        10015 non-null  bool   \n",
            " 27  dx_nv                         10015 non-null  bool   \n",
            " 28  dx_vasc                       10015 non-null  bool   \n",
            "dtypes: bool(25), float32(1), object(3)\n",
            "memory usage: 518.5+ KB\n",
            "None\n",
            "                age\n",
            "count  10015.000000\n",
            "mean       0.518532\n",
            "std        0.169210\n",
            "min        0.000000\n",
            "25%        0.400000\n",
            "50%        0.500000\n",
            "75%        0.650000\n",
            "max        0.850000\n"
          ]
        }
      ]
    },
    {
      "cell_type": "markdown",
      "source": [
        "### 2.4 Separación de datos"
      ],
      "metadata": {
        "id": "ZkmboPe6pWlo"
      },
      "id": "ZkmboPe6pWlo"
    },
    {
      "cell_type": "code",
      "source": [
        "# 4. Separamos datos\n",
        "dropX = ['lesion_id','image_id','dx_akiec','dx_bcc','dx_bkl','dx_df','dx_mel','dx_nv','dx_vasc','dx_type']\n",
        "dropY = ['lesion_id','image_id','dx_type','age','sex_female','sex_male','sex_unknown','localization_abdomen','localization_acral','localization_back','localization_chest','localization_ear',\n",
        "  'localization_face','localization_foot','localization_genital','localization_hand','localization_lower extremity',\n",
        "  'localization_neck','localization_scalp','localization_trunk','localization_unknown','localization_upper extremity']\n",
        "x = df.drop(dropX, axis=1).astype(np.float32).values  # Convertimos todo a float32\n",
        "y = df.drop(dropY, axis=1).astype(np.float32).values  # Convertimos todo a float32\n",
        "\n",
        "x_train, x_test, y_train, y_test = train_test_split(x, y, shuffle=True, test_size=0.20)\n",
        "x_train, x_val, y_train, y_val = train_test_split(x_train, y_train, shuffle=True, test_size=0.15)"
      ],
      "metadata": {
        "id": "z737HyMBpmo9"
      },
      "id": "z737HyMBpmo9",
      "execution_count": 5,
      "outputs": []
    },
    {
      "cell_type": "markdown",
      "source": [
        "### 2.5 Verificación"
      ],
      "metadata": {
        "id": "PoOBF3YVpcyQ"
      },
      "id": "PoOBF3YVpcyQ"
    },
    {
      "cell_type": "code",
      "source": [
        "# 5. Verificación de normalización\n",
        "x_traindf = pd.DataFrame(x_train)\n",
        "y_traindf = pd.DataFrame(y_train)\n",
        "\n",
        "print(x_traindf.describe())\n",
        "print(y_traindf.describe())\n",
        "print(x_traindf.shape)"
      ],
      "metadata": {
        "colab": {
          "base_uri": "https://localhost:8080/"
        },
        "id": "D1TMx0o-p3Wb",
        "outputId": "a17c65f2-066e-41cd-bc94-d28fadfa7df3"
      },
      "id": "D1TMx0o-p3Wb",
      "execution_count": 6,
      "outputs": [
        {
          "output_type": "stream",
          "name": "stdout",
          "text": [
            "                0            1            2            3            4   \\\n",
            "count  6810.000000  6810.000000  6810.000000  6810.000000  6810.000000   \n",
            "mean      0.518311     0.451836     0.542438     0.005727     0.105140   \n",
            "std       0.169144     0.497710     0.498220     0.075466     0.306749   \n",
            "min       0.000000     0.000000     0.000000     0.000000     0.000000   \n",
            "25%       0.400000     0.000000     0.000000     0.000000     0.000000   \n",
            "50%       0.500000     0.000000     1.000000     0.000000     0.000000   \n",
            "75%       0.650000     1.000000     1.000000     0.000000     0.000000   \n",
            "max       0.850000     1.000000     1.000000     1.000000     1.000000   \n",
            "\n",
            "                5            6            7            8            9   \\\n",
            "count  6810.000000  6810.000000  6810.000000  6810.000000  6810.000000   \n",
            "mean      0.000734     0.214831     0.040822     0.004552     0.072100   \n",
            "std       0.027088     0.410730     0.197890     0.067322     0.258665   \n",
            "min       0.000000     0.000000     0.000000     0.000000     0.000000   \n",
            "25%       0.000000     0.000000     0.000000     0.000000     0.000000   \n",
            "50%       0.000000     0.000000     0.000000     0.000000     0.000000   \n",
            "75%       0.000000     0.000000     0.000000     0.000000     0.000000   \n",
            "max       1.000000     1.000000     1.000000     1.000000     1.000000   \n",
            "\n",
            "                10           11           12           13           14  \\\n",
            "count  6810.000000  6810.000000  6810.000000  6810.000000  6810.000000   \n",
            "mean      0.033333     0.004552     0.009104     0.211747     0.016593   \n",
            "std       0.179524     0.067322     0.094989     0.408581     0.127749   \n",
            "min       0.000000     0.000000     0.000000     0.000000     0.000000   \n",
            "25%       0.000000     0.000000     0.000000     0.000000     0.000000   \n",
            "50%       0.000000     0.000000     0.000000     0.000000     0.000000   \n",
            "75%       0.000000     0.000000     0.000000     0.000000     0.000000   \n",
            "max       1.000000     1.000000     1.000000     1.000000     1.000000   \n",
            "\n",
            "                15           16           17           18  \n",
            "count  6810.000000  6810.000000  6810.000000  6810.000000  \n",
            "mean      0.013216     0.140822     0.024229     0.108223  \n",
            "std       0.114209     0.347868     0.153767     0.310693  \n",
            "min       0.000000     0.000000     0.000000     0.000000  \n",
            "25%       0.000000     0.000000     0.000000     0.000000  \n",
            "50%       0.000000     0.000000     0.000000     0.000000  \n",
            "75%       0.000000     0.000000     0.000000     0.000000  \n",
            "max       1.000000     1.000000     1.000000     1.000000  \n",
            "                 0            1            2            3            4  \\\n",
            "count  6810.000000  6810.000000  6810.000000  6810.000000  6810.000000   \n",
            "mean      0.032746     0.051542     0.106902     0.012775     0.110720   \n",
            "std       0.177982     0.221113     0.308999     0.112311     0.313816   \n",
            "min       0.000000     0.000000     0.000000     0.000000     0.000000   \n",
            "25%       0.000000     0.000000     0.000000     0.000000     0.000000   \n",
            "50%       0.000000     0.000000     0.000000     0.000000     0.000000   \n",
            "75%       0.000000     0.000000     0.000000     0.000000     0.000000   \n",
            "max       1.000000     1.000000     1.000000     1.000000     1.000000   \n",
            "\n",
            "                 5            6  \n",
            "count  6810.000000  6810.000000  \n",
            "mean      0.671659     0.013656  \n",
            "std       0.469640     0.116065  \n",
            "min       0.000000     0.000000  \n",
            "25%       0.000000     0.000000  \n",
            "50%       1.000000     0.000000  \n",
            "75%       1.000000     0.000000  \n",
            "max       1.000000     1.000000  \n",
            "(6810, 19)\n"
          ]
        }
      ]
    },
    {
      "cell_type": "markdown",
      "source": [
        "## 3. Entrenamiento"
      ],
      "metadata": {
        "id": "gXK94dEvtl9Y"
      },
      "id": "gXK94dEvtl9Y"
    },
    {
      "cell_type": "code",
      "source": [
        "# Imports necesarios\n",
        "from sklearn.metrics import classification_report\n",
        "from tensorflow.keras.models import Sequential\n",
        "from tensorflow.keras.layers import Flatten, Dense\n",
        "from tensorflow.keras.optimizers import SGD\n",
        "import matplotlib.pyplot as plt\n",
        "\n",
        "# Hiper-parámetros de nuestra red\n",
        "lr = 0.0035\n",
        "n_epochs = 50\n",
        "batch_size = 128\n",
        "\n",
        "# Implementamos la red empleando Keras\n",
        "model = Sequential() # Instancia de modelo API secuencial\n",
        "model.add(Flatten()) # Estiramos los datos en forma de vector como entrada a nuestro Perceptrón Simple\n",
        "model.add(Dense(24, activation='relu', name=\"tab_dense1\")),  # capa intermedia\n",
        "model.add(Dense(16, activation='relu', name=\"tab_dense2\")),  # capa intermedia\n",
        "model.add(Dense(7, input_shape=(19,), activation=\"softmax\")) # Construimos nuestro Perceptrón simple con una única capa Dense\n",
        "\n",
        "# Compilamos y entrenamos el modelo SGD\n",
        "print(\"[INFO]: Entrenando red neuronal...\")\n",
        "model.compile(loss=\"categorical_crossentropy\", optimizer=SGD(lr), metrics=[\"accuracy\"])\n",
        "\n",
        "H = model.fit(x_train, y_train, validation_data=(x_val, y_val), epochs=n_epochs, batch_size=batch_size)\n",
        "\n",
        "# Evaluando el modelo de predicción\n",
        "print(\"[INFO]: Evaluando red neuronal...\")\n",
        "predictions = model.predict(x_test, batch_size=batch_size)\n",
        "print(classification_report(y_test.argmax(axis=1), predictions.argmax(axis=1)))\n",
        "\n"
      ],
      "metadata": {
        "colab": {
          "base_uri": "https://localhost:8080/"
        },
        "id": "trVJjWzMOHZ6",
        "outputId": "01570ac5-ab26-47fe-8e1d-6bfe1ae4a868"
      },
      "id": "trVJjWzMOHZ6",
      "execution_count": 15,
      "outputs": [
        {
          "output_type": "stream",
          "name": "stdout",
          "text": [
            "[INFO]: Entrenando red neuronal...\n",
            "Epoch 1/50\n"
          ]
        },
        {
          "output_type": "stream",
          "name": "stderr",
          "text": [
            "/usr/local/lib/python3.11/dist-packages/keras/src/layers/core/dense.py:87: UserWarning: Do not pass an `input_shape`/`input_dim` argument to a layer. When using Sequential models, prefer using an `Input(shape)` object as the first layer in the model instead.\n",
            "  super().__init__(activity_regularizer=activity_regularizer, **kwargs)\n"
          ]
        },
        {
          "output_type": "stream",
          "name": "stdout",
          "text": [
            "\u001b[1m54/54\u001b[0m \u001b[32m━━━━━━━━━━━━━━━━━━━━\u001b[0m\u001b[37m\u001b[0m \u001b[1m2s\u001b[0m 11ms/step - accuracy: 0.0746 - loss: 2.0175 - val_accuracy: 0.1714 - val_loss: 1.9121\n",
            "Epoch 2/50\n",
            "\u001b[1m54/54\u001b[0m \u001b[32m━━━━━━━━━━━━━━━━━━━━\u001b[0m\u001b[37m\u001b[0m \u001b[1m1s\u001b[0m 3ms/step - accuracy: 0.2580 - loss: 1.8808 - val_accuracy: 0.5258 - val_loss: 1.7994\n",
            "Epoch 3/50\n",
            "\u001b[1m54/54\u001b[0m \u001b[32m━━━━━━━━━━━━━━━━━━━━\u001b[0m\u001b[37m\u001b[0m \u001b[1m0s\u001b[0m 3ms/step - accuracy: 0.5850 - loss: 1.7730 - val_accuracy: 0.6564 - val_loss: 1.7075\n",
            "Epoch 4/50\n",
            "\u001b[1m54/54\u001b[0m \u001b[32m━━━━━━━━━━━━━━━━━━━━\u001b[0m\u001b[37m\u001b[0m \u001b[1m0s\u001b[0m 4ms/step - accuracy: 0.6825 - loss: 1.6790 - val_accuracy: 0.6564 - val_loss: 1.6242\n",
            "Epoch 5/50\n",
            "\u001b[1m54/54\u001b[0m \u001b[32m━━━━━━━━━━━━━━━━━━━━\u001b[0m\u001b[37m\u001b[0m \u001b[1m0s\u001b[0m 4ms/step - accuracy: 0.6745 - loss: 1.5954 - val_accuracy: 0.6564 - val_loss: 1.5428\n",
            "Epoch 6/50\n",
            "\u001b[1m54/54\u001b[0m \u001b[32m━━━━━━━━━━━━━━━━━━━━\u001b[0m\u001b[37m\u001b[0m \u001b[1m0s\u001b[0m 4ms/step - accuracy: 0.6723 - loss: 1.5111 - val_accuracy: 0.6564 - val_loss: 1.4682\n",
            "Epoch 7/50\n",
            "\u001b[1m54/54\u001b[0m \u001b[32m━━━━━━━━━━━━━━━━━━━━\u001b[0m\u001b[37m\u001b[0m \u001b[1m0s\u001b[0m 3ms/step - accuracy: 0.6751 - loss: 1.4338 - val_accuracy: 0.6564 - val_loss: 1.4025\n",
            "Epoch 8/50\n",
            "\u001b[1m54/54\u001b[0m \u001b[32m━━━━━━━━━━━━━━━━━━━━\u001b[0m\u001b[37m\u001b[0m \u001b[1m0s\u001b[0m 4ms/step - accuracy: 0.6826 - loss: 1.3575 - val_accuracy: 0.6564 - val_loss: 1.3484\n",
            "Epoch 9/50\n",
            "\u001b[1m54/54\u001b[0m \u001b[32m━━━━━━━━━━━━━━━━━━━━\u001b[0m\u001b[37m\u001b[0m \u001b[1m0s\u001b[0m 4ms/step - accuracy: 0.6722 - loss: 1.3164 - val_accuracy: 0.6564 - val_loss: 1.3067\n",
            "Epoch 10/50\n",
            "\u001b[1m54/54\u001b[0m \u001b[32m━━━━━━━━━━━━━━━━━━━━\u001b[0m\u001b[37m\u001b[0m \u001b[1m0s\u001b[0m 3ms/step - accuracy: 0.6714 - loss: 1.2757 - val_accuracy: 0.6564 - val_loss: 1.2769\n",
            "Epoch 11/50\n",
            "\u001b[1m54/54\u001b[0m \u001b[32m━━━━━━━━━━━━━━━━━━━━\u001b[0m\u001b[37m\u001b[0m \u001b[1m0s\u001b[0m 3ms/step - accuracy: 0.6795 - loss: 1.2332 - val_accuracy: 0.6564 - val_loss: 1.2561\n",
            "Epoch 12/50\n",
            "\u001b[1m54/54\u001b[0m \u001b[32m━━━━━━━━━━━━━━━━━━━━\u001b[0m\u001b[37m\u001b[0m \u001b[1m0s\u001b[0m 4ms/step - accuracy: 0.6651 - loss: 1.2376 - val_accuracy: 0.6564 - val_loss: 1.2409\n",
            "Epoch 13/50\n",
            "\u001b[1m54/54\u001b[0m \u001b[32m━━━━━━━━━━━━━━━━━━━━\u001b[0m\u001b[37m\u001b[0m \u001b[1m0s\u001b[0m 3ms/step - accuracy: 0.6766 - loss: 1.2008 - val_accuracy: 0.6564 - val_loss: 1.2297\n",
            "Epoch 14/50\n",
            "\u001b[1m54/54\u001b[0m \u001b[32m━━━━━━━━━━━━━━━━━━━━\u001b[0m\u001b[37m\u001b[0m \u001b[1m0s\u001b[0m 3ms/step - accuracy: 0.6748 - loss: 1.1880 - val_accuracy: 0.6564 - val_loss: 1.2210\n",
            "Epoch 15/50\n",
            "\u001b[1m54/54\u001b[0m \u001b[32m━━━━━━━━━━━━━━━━━━━━\u001b[0m\u001b[37m\u001b[0m \u001b[1m0s\u001b[0m 4ms/step - accuracy: 0.6719 - loss: 1.1909 - val_accuracy: 0.6564 - val_loss: 1.2136\n",
            "Epoch 16/50\n",
            "\u001b[1m54/54\u001b[0m \u001b[32m━━━━━━━━━━━━━━━━━━━━\u001b[0m\u001b[37m\u001b[0m \u001b[1m0s\u001b[0m 3ms/step - accuracy: 0.6687 - loss: 1.1822 - val_accuracy: 0.6564 - val_loss: 1.2065\n",
            "Epoch 17/50\n",
            "\u001b[1m54/54\u001b[0m \u001b[32m━━━━━━━━━━━━━━━━━━━━\u001b[0m\u001b[37m\u001b[0m \u001b[1m0s\u001b[0m 3ms/step - accuracy: 0.6869 - loss: 1.1473 - val_accuracy: 0.6564 - val_loss: 1.1999\n",
            "Epoch 18/50\n",
            "\u001b[1m54/54\u001b[0m \u001b[32m━━━━━━━━━━━━━━━━━━━━\u001b[0m\u001b[37m\u001b[0m \u001b[1m0s\u001b[0m 3ms/step - accuracy: 0.6720 - loss: 1.1645 - val_accuracy: 0.6564 - val_loss: 1.1940\n",
            "Epoch 19/50\n",
            "\u001b[1m54/54\u001b[0m \u001b[32m━━━━━━━━━━━━━━━━━━━━\u001b[0m\u001b[37m\u001b[0m \u001b[1m0s\u001b[0m 3ms/step - accuracy: 0.6732 - loss: 1.1517 - val_accuracy: 0.6564 - val_loss: 1.1887\n",
            "Epoch 20/50\n",
            "\u001b[1m54/54\u001b[0m \u001b[32m━━━━━━━━━━━━━━━━━━━━\u001b[0m\u001b[37m\u001b[0m \u001b[1m0s\u001b[0m 4ms/step - accuracy: 0.6753 - loss: 1.1499 - val_accuracy: 0.6564 - val_loss: 1.1836\n",
            "Epoch 21/50\n",
            "\u001b[1m54/54\u001b[0m \u001b[32m━━━━━━━━━━━━━━━━━━━━\u001b[0m\u001b[37m\u001b[0m \u001b[1m0s\u001b[0m 3ms/step - accuracy: 0.6780 - loss: 1.1327 - val_accuracy: 0.6564 - val_loss: 1.1787\n",
            "Epoch 22/50\n",
            "\u001b[1m54/54\u001b[0m \u001b[32m━━━━━━━━━━━━━━━━━━━━\u001b[0m\u001b[37m\u001b[0m \u001b[1m0s\u001b[0m 3ms/step - accuracy: 0.6694 - loss: 1.1475 - val_accuracy: 0.6564 - val_loss: 1.1741\n",
            "Epoch 23/50\n",
            "\u001b[1m54/54\u001b[0m \u001b[32m━━━━━━━━━━━━━━━━━━━━\u001b[0m\u001b[37m\u001b[0m \u001b[1m0s\u001b[0m 3ms/step - accuracy: 0.6614 - loss: 1.1665 - val_accuracy: 0.6564 - val_loss: 1.1695\n",
            "Epoch 24/50\n",
            "\u001b[1m54/54\u001b[0m \u001b[32m━━━━━━━━━━━━━━━━━━━━\u001b[0m\u001b[37m\u001b[0m \u001b[1m0s\u001b[0m 3ms/step - accuracy: 0.6713 - loss: 1.1402 - val_accuracy: 0.6564 - val_loss: 1.1651\n",
            "Epoch 25/50\n",
            "\u001b[1m54/54\u001b[0m \u001b[32m━━━━━━━━━━━━━━━━━━━━\u001b[0m\u001b[37m\u001b[0m \u001b[1m0s\u001b[0m 3ms/step - accuracy: 0.6745 - loss: 1.1208 - val_accuracy: 0.6564 - val_loss: 1.1607\n",
            "Epoch 26/50\n",
            "\u001b[1m54/54\u001b[0m \u001b[32m━━━━━━━━━━━━━━━━━━━━\u001b[0m\u001b[37m\u001b[0m \u001b[1m0s\u001b[0m 4ms/step - accuracy: 0.6725 - loss: 1.1286 - val_accuracy: 0.6564 - val_loss: 1.1567\n",
            "Epoch 27/50\n",
            "\u001b[1m54/54\u001b[0m \u001b[32m━━━━━━━━━━━━━━━━━━━━\u001b[0m\u001b[37m\u001b[0m \u001b[1m0s\u001b[0m 3ms/step - accuracy: 0.6664 - loss: 1.1314 - val_accuracy: 0.6564 - val_loss: 1.1531\n",
            "Epoch 28/50\n",
            "\u001b[1m54/54\u001b[0m \u001b[32m━━━━━━━━━━━━━━━━━━━━\u001b[0m\u001b[37m\u001b[0m \u001b[1m0s\u001b[0m 3ms/step - accuracy: 0.6802 - loss: 1.1045 - val_accuracy: 0.6564 - val_loss: 1.1498\n",
            "Epoch 29/50\n",
            "\u001b[1m54/54\u001b[0m \u001b[32m━━━━━━━━━━━━━━━━━━━━\u001b[0m\u001b[37m\u001b[0m \u001b[1m0s\u001b[0m 3ms/step - accuracy: 0.6642 - loss: 1.1285 - val_accuracy: 0.6564 - val_loss: 1.1468\n",
            "Epoch 30/50\n",
            "\u001b[1m54/54\u001b[0m \u001b[32m━━━━━━━━━━━━━━━━━━━━\u001b[0m\u001b[37m\u001b[0m \u001b[1m0s\u001b[0m 4ms/step - accuracy: 0.6679 - loss: 1.1218 - val_accuracy: 0.6564 - val_loss: 1.1439\n",
            "Epoch 31/50\n",
            "\u001b[1m54/54\u001b[0m \u001b[32m━━━━━━━━━━━━━━━━━━━━\u001b[0m\u001b[37m\u001b[0m \u001b[1m0s\u001b[0m 3ms/step - accuracy: 0.6742 - loss: 1.1015 - val_accuracy: 0.6564 - val_loss: 1.1412\n",
            "Epoch 32/50\n",
            "\u001b[1m54/54\u001b[0m \u001b[32m━━━━━━━━━━━━━━━━━━━━\u001b[0m\u001b[37m\u001b[0m \u001b[1m0s\u001b[0m 3ms/step - accuracy: 0.6744 - loss: 1.1077 - val_accuracy: 0.6564 - val_loss: 1.1386\n",
            "Epoch 33/50\n",
            "\u001b[1m54/54\u001b[0m \u001b[32m━━━━━━━━━━━━━━━━━━━━\u001b[0m\u001b[37m\u001b[0m \u001b[1m0s\u001b[0m 3ms/step - accuracy: 0.6708 - loss: 1.1102 - val_accuracy: 0.6564 - val_loss: 1.1362\n",
            "Epoch 34/50\n",
            "\u001b[1m54/54\u001b[0m \u001b[32m━━━━━━━━━━━━━━━━━━━━\u001b[0m\u001b[37m\u001b[0m \u001b[1m0s\u001b[0m 4ms/step - accuracy: 0.6763 - loss: 1.0941 - val_accuracy: 0.6564 - val_loss: 1.1337\n",
            "Epoch 35/50\n",
            "\u001b[1m54/54\u001b[0m \u001b[32m━━━━━━━━━━━━━━━━━━━━\u001b[0m\u001b[37m\u001b[0m \u001b[1m0s\u001b[0m 3ms/step - accuracy: 0.6710 - loss: 1.1043 - val_accuracy: 0.6564 - val_loss: 1.1314\n",
            "Epoch 36/50\n",
            "\u001b[1m54/54\u001b[0m \u001b[32m━━━━━━━━━━━━━━━━━━━━\u001b[0m\u001b[37m\u001b[0m \u001b[1m0s\u001b[0m 4ms/step - accuracy: 0.6692 - loss: 1.1138 - val_accuracy: 0.6564 - val_loss: 1.1289\n",
            "Epoch 37/50\n",
            "\u001b[1m54/54\u001b[0m \u001b[32m━━━━━━━━━━━━━━━━━━━━\u001b[0m\u001b[37m\u001b[0m \u001b[1m0s\u001b[0m 5ms/step - accuracy: 0.6709 - loss: 1.0986 - val_accuracy: 0.6564 - val_loss: 1.1267\n",
            "Epoch 38/50\n",
            "\u001b[1m54/54\u001b[0m \u001b[32m━━━━━━━━━━━━━━━━━━━━\u001b[0m\u001b[37m\u001b[0m \u001b[1m1s\u001b[0m 5ms/step - accuracy: 0.6796 - loss: 1.0817 - val_accuracy: 0.6564 - val_loss: 1.1244\n",
            "Epoch 39/50\n",
            "\u001b[1m54/54\u001b[0m \u001b[32m━━━━━━━━━━━━━━━━━━━━\u001b[0m\u001b[37m\u001b[0m \u001b[1m1s\u001b[0m 6ms/step - accuracy: 0.6641 - loss: 1.0948 - val_accuracy: 0.6564 - val_loss: 1.1222\n",
            "Epoch 40/50\n",
            "\u001b[1m54/54\u001b[0m \u001b[32m━━━━━━━━━━━━━━━━━━━━\u001b[0m\u001b[37m\u001b[0m \u001b[1m0s\u001b[0m 6ms/step - accuracy: 0.6813 - loss: 1.0605 - val_accuracy: 0.6564 - val_loss: 1.1199\n",
            "Epoch 41/50\n",
            "\u001b[1m54/54\u001b[0m \u001b[32m━━━━━━━━━━━━━━━━━━━━\u001b[0m\u001b[37m\u001b[0m \u001b[1m0s\u001b[0m 5ms/step - accuracy: 0.6706 - loss: 1.0915 - val_accuracy: 0.6564 - val_loss: 1.1178\n",
            "Epoch 42/50\n",
            "\u001b[1m54/54\u001b[0m \u001b[32m━━━━━━━━━━━━━━━━━━━━\u001b[0m\u001b[37m\u001b[0m \u001b[1m0s\u001b[0m 3ms/step - accuracy: 0.6734 - loss: 1.0828 - val_accuracy: 0.6564 - val_loss: 1.1157\n",
            "Epoch 43/50\n",
            "\u001b[1m54/54\u001b[0m \u001b[32m━━━━━━━━━━━━━━━━━━━━\u001b[0m\u001b[37m\u001b[0m \u001b[1m0s\u001b[0m 3ms/step - accuracy: 0.6690 - loss: 1.0869 - val_accuracy: 0.6564 - val_loss: 1.1135\n",
            "Epoch 44/50\n",
            "\u001b[1m54/54\u001b[0m \u001b[32m━━━━━━━━━━━━━━━━━━━━\u001b[0m\u001b[37m\u001b[0m \u001b[1m0s\u001b[0m 3ms/step - accuracy: 0.6596 - loss: 1.1070 - val_accuracy: 0.6564 - val_loss: 1.1114\n",
            "Epoch 45/50\n",
            "\u001b[1m54/54\u001b[0m \u001b[32m━━━━━━━━━━━━━━━━━━━━\u001b[0m\u001b[37m\u001b[0m \u001b[1m0s\u001b[0m 3ms/step - accuracy: 0.6665 - loss: 1.1011 - val_accuracy: 0.6564 - val_loss: 1.1094\n",
            "Epoch 46/50\n",
            "\u001b[1m54/54\u001b[0m \u001b[32m━━━━━━━━━━━━━━━━━━━━\u001b[0m\u001b[37m\u001b[0m \u001b[1m0s\u001b[0m 3ms/step - accuracy: 0.6716 - loss: 1.0741 - val_accuracy: 0.6564 - val_loss: 1.1074\n",
            "Epoch 47/50\n",
            "\u001b[1m54/54\u001b[0m \u001b[32m━━━━━━━━━━━━━━━━━━━━\u001b[0m\u001b[37m\u001b[0m \u001b[1m0s\u001b[0m 4ms/step - accuracy: 0.6732 - loss: 1.0738 - val_accuracy: 0.6564 - val_loss: 1.1053\n",
            "Epoch 48/50\n",
            "\u001b[1m54/54\u001b[0m \u001b[32m━━━━━━━━━━━━━━━━━━━━\u001b[0m\u001b[37m\u001b[0m \u001b[1m0s\u001b[0m 4ms/step - accuracy: 0.6755 - loss: 1.0696 - val_accuracy: 0.6564 - val_loss: 1.1032\n",
            "Epoch 49/50\n",
            "\u001b[1m54/54\u001b[0m \u001b[32m━━━━━━━━━━━━━━━━━━━━\u001b[0m\u001b[37m\u001b[0m \u001b[1m0s\u001b[0m 3ms/step - accuracy: 0.6630 - loss: 1.0863 - val_accuracy: 0.6564 - val_loss: 1.1011\n",
            "Epoch 50/50\n",
            "\u001b[1m54/54\u001b[0m \u001b[32m━━━━━━━━━━━━━━━━━━━━\u001b[0m\u001b[37m\u001b[0m \u001b[1m0s\u001b[0m 3ms/step - accuracy: 0.6677 - loss: 1.0741 - val_accuracy: 0.6564 - val_loss: 1.0990\n",
            "[INFO]: Evaluando red neuronal...\n",
            "\u001b[1m16/16\u001b[0m \u001b[32m━━━━━━━━━━━━━━━━━━━━\u001b[0m\u001b[37m\u001b[0m \u001b[1m0s\u001b[0m 5ms/step\n",
            "              precision    recall  f1-score   support\n",
            "\n",
            "           0       0.00      0.00      0.00        73\n",
            "           1       0.00      0.00      0.00        97\n",
            "           2       0.00      0.00      0.00       226\n",
            "           3       0.00      0.00      0.00        16\n",
            "           4       0.00      0.00      0.00       227\n",
            "           5       0.67      1.00      0.80      1342\n",
            "           6       0.00      0.00      0.00        22\n",
            "\n",
            "    accuracy                           0.67      2003\n",
            "   macro avg       0.10      0.14      0.11      2003\n",
            "weighted avg       0.45      0.67      0.54      2003\n",
            "\n"
          ]
        },
        {
          "output_type": "stream",
          "name": "stderr",
          "text": [
            "/usr/local/lib/python3.11/dist-packages/sklearn/metrics/_classification.py:1565: UndefinedMetricWarning: Precision is ill-defined and being set to 0.0 in labels with no predicted samples. Use `zero_division` parameter to control this behavior.\n",
            "  _warn_prf(average, modifier, f\"{metric.capitalize()} is\", len(result))\n",
            "/usr/local/lib/python3.11/dist-packages/sklearn/metrics/_classification.py:1565: UndefinedMetricWarning: Precision is ill-defined and being set to 0.0 in labels with no predicted samples. Use `zero_division` parameter to control this behavior.\n",
            "  _warn_prf(average, modifier, f\"{metric.capitalize()} is\", len(result))\n",
            "/usr/local/lib/python3.11/dist-packages/sklearn/metrics/_classification.py:1565: UndefinedMetricWarning: Precision is ill-defined and being set to 0.0 in labels with no predicted samples. Use `zero_division` parameter to control this behavior.\n",
            "  _warn_prf(average, modifier, f\"{metric.capitalize()} is\", len(result))\n"
          ]
        }
      ]
    },
    {
      "cell_type": "markdown",
      "source": [
        "## 4. Gráfica de Perdidas"
      ],
      "metadata": {
        "id": "wbLD9i9pKwLc"
      },
      "id": "wbLD9i9pKwLc"
    },
    {
      "cell_type": "code",
      "source": [
        "# veamos nuestra función de pérdidas con respecto a las épocas ejecutadas\n",
        "plt.style.use(\"ggplot\")\n",
        "plt.figure()\n",
        "plt.plot(np.arange(0, n_epochs), H.history[\"loss\"], label=\"train_loss\")\n",
        "plt.plot(np.arange(0, n_epochs), H.history[\"val_loss\"], label=\"val_loss\")\n",
        "plt.plot(np.arange(0, n_epochs), H.history[\"accuracy\"], label=\"train_acc\")\n",
        "plt.plot(np.arange(0, n_epochs), H.history[\"val_accuracy\"], label=\"val_acc\")\n",
        "plt.title(\"Training Loss and Accuracy\")\n",
        "plt.xlabel(\"Epoch #\")\n",
        "plt.ylabel(\"Loss/Accuracy\")\n",
        "plt.legend()"
      ],
      "metadata": {
        "id": "qDEI_KuxKXZR",
        "outputId": "0305cdc7-9683-42f9-f71f-46d2af33936c",
        "colab": {
          "base_uri": "https://localhost:8080/",
          "height": 494
        }
      },
      "id": "qDEI_KuxKXZR",
      "execution_count": 16,
      "outputs": [
        {
          "output_type": "execute_result",
          "data": {
            "text/plain": [
              "<matplotlib.legend.Legend at 0x7f67144e4f90>"
            ]
          },
          "metadata": {},
          "execution_count": 16
        },
        {
          "output_type": "display_data",
          "data": {
            "text/plain": [
              "<Figure size 640x480 with 1 Axes>"
            ],
            "image/png": "[encoded data removed]"
          },
          "metadata": {}
        }
      ]
    },
    {
      "cell_type": "code",
      "source": [
        "# Guardamos el resultado\n",
        "model.save(\"/content/1d_model.keras\")"
      ],
      "metadata": {
        "id": "GNHWEKcPuoj-"
      },
      "id": "GNHWEKcPuoj-",
      "execution_count": 18,
      "outputs": []
    },
    {
      "cell_type": "markdown",
      "source": [
        "## 5. Concluciones"
      ],
      "metadata": {
        "id": "m3DusFPhK8tX"
      },
      "id": "m3DusFPhK8tX"
    },
    {
      "cell_type": "code",
      "source": [
        "model.summary()"
      ],
      "metadata": {
        "colab": {
          "base_uri": "https://localhost:8080/",
          "height": 289
        },
        "id": "iq5WUVF5w02O",
        "outputId": "74f1ff27-91ea-4d83-fc4a-60c317271609"
      },
      "id": "iq5WUVF5w02O",
      "execution_count": 17,
      "outputs": [
        {
          "output_type": "display_data",
          "data": {
            "text/plain": [
              "\u001b[1mModel: \"sequential_4\"\u001b[0m\n"
            ],
            "text/html": [
              "<pre style=\"white-space:pre;overflow-x:auto;line-height:normal;font-family:Menlo,'DejaVu Sans Mono',consolas,'Courier New',monospace\"><span style=\"font-weight: bold\">Model: \"sequential_4\"</span>\n",
              "</pre>\n"
            ]
          },
          "metadata": {}
        },
        {
          "output_type": "display_data",
          "data": {
            "text/plain": [
              "┏━━━━━━━━━━━━━━━━━━━━━━━━━━━━━━━━━━━━━━┳━━━━━━━━━━━━━━━━━━━━━━━━━━━━━┳━━━━━━━━━━━━━━━━━┓\n",
              "┃\u001b[1m \u001b[0m\u001b[1mLayer (type)                        \u001b[0m\u001b[1m \u001b[0m┃\u001b[1m \u001b[0m\u001b[1mOutput Shape               \u001b[0m\u001b[1m \u001b[0m┃\u001b[1m \u001b[0m\u001b[1m        Param #\u001b[0m\u001b[1m \u001b[0m┃\n",
              "┡━━━━━━━━━━━━━━━━━━━━━━━━━━━━━━━━━━━━━━╇━━━━━━━━━━━━━━━━━━━━━━━━━━━━━╇━━━━━━━━━━━━━━━━━┩\n",
              "│ flatten_4 (\u001b[38;5;33mFlatten\u001b[0m)                  │ (\u001b[38;5;45mNone\u001b[0m, \u001b[38;5;34m19\u001b[0m)                  │               \u001b[38;5;34m0\u001b[0m │\n",
              "├──────────────────────────────────────┼─────────────────────────────┼─────────────────┤\n",
              "│ tab_dense1 (\u001b[38;5;33mDense\u001b[0m)                   │ (\u001b[38;5;45mNone\u001b[0m, \u001b[38;5;34m24\u001b[0m)                  │             \u001b[38;5;34m480\u001b[0m │\n",
              "├──────────────────────────────────────┼─────────────────────────────┼─────────────────┤\n",
              "│ tab_dense2 (\u001b[38;5;33mDense\u001b[0m)                   │ (\u001b[38;5;45mNone\u001b[0m, \u001b[38;5;34m16\u001b[0m)                  │             \u001b[38;5;34m400\u001b[0m │\n",
              "├──────────────────────────────────────┼─────────────────────────────┼─────────────────┤\n",
              "│ dense_4 (\u001b[38;5;33mDense\u001b[0m)                      │ (\u001b[38;5;45mNone\u001b[0m, \u001b[38;5;34m7\u001b[0m)                   │             \u001b[38;5;34m119\u001b[0m │\n",
              "└──────────────────────────────────────┴─────────────────────────────┴─────────────────┘\n"
            ],
            "text/html": [
              "<pre style=\"white-space:pre;overflow-x:auto;line-height:normal;font-family:Menlo,'DejaVu Sans Mono',consolas,'Courier New',monospace\">┏━━━━━━━━━━━━━━━━━━━━━━━━━━━━━━━━━━━━━━┳━━━━━━━━━━━━━━━━━━━━━━━━━━━━━┳━━━━━━━━━━━━━━━━━┓\n",
              "┃<span style=\"font-weight: bold\"> Layer (type)                         </span>┃<span style=\"font-weight: bold\"> Output Shape                </span>┃<span style=\"font-weight: bold\">         Param # </span>┃\n",
              "┡━━━━━━━━━━━━━━━━━━━━━━━━━━━━━━━━━━━━━━╇━━━━━━━━━━━━━━━━━━━━━━━━━━━━━╇━━━━━━━━━━━━━━━━━┩\n",
              "│ flatten_4 (<span style=\"color: #0087ff; text-decoration-color: #0087ff\">Flatten</span>)                  │ (<span style=\"color: #00d7ff; text-decoration-color: #00d7ff\">None</span>, <span style=\"color: #00af00; text-decoration-color: #00af00\">19</span>)                  │               <span style=\"color: #00af00; text-decoration-color: #00af00\">0</span> │\n",
              "├──────────────────────────────────────┼─────────────────────────────┼─────────────────┤\n",
              "│ tab_dense1 (<span style=\"color: #0087ff; text-decoration-color: #0087ff\">Dense</span>)                   │ (<span style=\"color: #00d7ff; text-decoration-color: #00d7ff\">None</span>, <span style=\"color: #00af00; text-decoration-color: #00af00\">24</span>)                  │             <span style=\"color: #00af00; text-decoration-color: #00af00\">480</span> │\n",
              "├──────────────────────────────────────┼─────────────────────────────┼─────────────────┤\n",
              "│ tab_dense2 (<span style=\"color: #0087ff; text-decoration-color: #0087ff\">Dense</span>)                   │ (<span style=\"color: #00d7ff; text-decoration-color: #00d7ff\">None</span>, <span style=\"color: #00af00; text-decoration-color: #00af00\">16</span>)                  │             <span style=\"color: #00af00; text-decoration-color: #00af00\">400</span> │\n",
              "├──────────────────────────────────────┼─────────────────────────────┼─────────────────┤\n",
              "│ dense_4 (<span style=\"color: #0087ff; text-decoration-color: #0087ff\">Dense</span>)                      │ (<span style=\"color: #00d7ff; text-decoration-color: #00d7ff\">None</span>, <span style=\"color: #00af00; text-decoration-color: #00af00\">7</span>)                   │             <span style=\"color: #00af00; text-decoration-color: #00af00\">119</span> │\n",
              "└──────────────────────────────────────┴─────────────────────────────┴─────────────────┘\n",
              "</pre>\n"
            ]
          },
          "metadata": {}
        },
        {
          "output_type": "display_data",
          "data": {
            "text/plain": [
              "\u001b[1m Total params: \u001b[0m\u001b[38;5;34m1,001\u001b[0m (3.91 KB)\n"
            ],
            "text/html": [
              "<pre style=\"white-space:pre;overflow-x:auto;line-height:normal;font-family:Menlo,'DejaVu Sans Mono',consolas,'Courier New',monospace\"><span style=\"font-weight: bold\"> Total params: </span><span style=\"color: #00af00; text-decoration-color: #00af00\">1,001</span> (3.91 KB)\n",
              "</pre>\n"
            ]
          },
          "metadata": {}
        },
        {
          "output_type": "display_data",
          "data": {
            "text/plain": [
              "\u001b[1m Trainable params: \u001b[0m\u001b[38;5;34m999\u001b[0m (3.90 KB)\n"
            ],
            "text/html": [
              "<pre style=\"white-space:pre;overflow-x:auto;line-height:normal;font-family:Menlo,'DejaVu Sans Mono',consolas,'Courier New',monospace\"><span style=\"font-weight: bold\"> Trainable params: </span><span style=\"color: #00af00; text-decoration-color: #00af00\">999</span> (3.90 KB)\n",
              "</pre>\n"
            ]
          },
          "metadata": {}
        },
        {
          "output_type": "display_data",
          "data": {
            "text/plain": [
              "\u001b[1m Non-trainable params: \u001b[0m\u001b[38;5;34m0\u001b[0m (0.00 B)\n"
            ],
            "text/html": [
              "<pre style=\"white-space:pre;overflow-x:auto;line-height:normal;font-family:Menlo,'DejaVu Sans Mono',consolas,'Courier New',monospace\"><span style=\"font-weight: bold\"> Non-trainable params: </span><span style=\"color: #00af00; text-decoration-color: #00af00\">0</span> (0.00 B)\n",
              "</pre>\n"
            ]
          },
          "metadata": {}
        },
        {
          "output_type": "display_data",
          "data": {
            "text/plain": [
              "\u001b[1m Optimizer params: \u001b[0m\u001b[38;5;34m2\u001b[0m (12.00 B)\n"
            ],
            "text/html": [
              "<pre style=\"white-space:pre;overflow-x:auto;line-height:normal;font-family:Menlo,'DejaVu Sans Mono',consolas,'Courier New',monospace\"><span style=\"font-weight: bold\"> Optimizer params: </span><span style=\"color: #00af00; text-decoration-color: #00af00\">2</span> (12.00 B)\n",
              "</pre>\n"
            ]
          },
          "metadata": {}
        }
      ]
    },
    {
      "cell_type": "markdown",
      "source": [
        "El objetivo era predecir la condición médica de los pacientes usando únicamente con los datos tabulares (edad, sexo y ubicación de la lesión). Para ello, empleé una red neuronal profunda con capas densas (fully connected), lo cual es adecuado para los datos tabulares, que no contienen información espacial o estructurada como las imágenes, por lo que las redes convolucionales no eran necesarias.\n",
        "\n",
        "Las redes Dense son capaces de capturar relaciones complejas en datos estructurados y pueden generalizar bien con un volumen suficiente de muestras.\n",
        "\n",
        "Usé la activación ReLU en las capas ocultas como operación no linéal para mejorar la convergencia además de que mantiene los rangos dentro de 0 y 1.\n",
        "\n",
        "Por último la salida con softmax permite la comparación por porcentajes.\n",
        "\n",
        "Si bien el rendimiento puede estar limitado por la cantidad de información en los datos tabulares, este modelo ayuda a establecer una línea base. Si el desempeño no fue óptimo, es esperado, ya que los datos tabulares tienen menos información discriminativa en comparación con las imágenes.\n",
        "\n",
        "Posibles mejoras\n",
        "Si tuviera más tiempo, podrías probar ajuste de hiperparámetros (me sorprendió lo bien que salieron en el primer intento), también podría probar diferentes arquitecturas (más o menos capas/neuronas). Además de variar la tasa de aprendizaje y el optimizador.\n",
        "\n",
        "También podría probar técnicas de regularización como Dropout para evitar el overfiting."
      ],
      "metadata": {
        "id": "s-kPUhIOLCie"
      },
      "id": "s-kPUhIOLCie"
    }
  ],
  "metadata": {
    "kernelspec": {
      "display_name": "Python 3",
      "name": "python3"
    },
    "language_info": {
      "name": "python"
    },
    "colab": {
      "provenance": [],
      "include_colab_link": true
    }
  },
  "nbformat": 4,
  "nbformat_minor": 5
}